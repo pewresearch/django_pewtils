{
 "cells": [
  {
   "cell_type": "code",
   "execution_count": 1,
   "metadata": {},
   "outputs": [],
   "source": [
    "PROJECT_FOLDER = \"/apps/prod/logos\""
   ]
  },
  {
   "cell_type": "code",
   "execution_count": 2,
   "metadata": {},
   "outputs": [],
   "source": [
    "# # For future reference, this is how we can set up the test database in a notebook, for examples\n",
    "\n",
    "# import sys, os\n",
    "# DJANGO_LOCATION = \"/Users/pvankessel/.pyenv/versions/3.6.5/envs/python3/lib/python3.6/site-packages\"\n",
    "# sys.path.append(DJANGO_LOCATION)\n",
    "# import django\n",
    "# os.environ[\"DJANGO_ALLOW_ASYNC_UNSAFE\"] = \"true\"\n",
    "# os.environ['DJANGO_SETTINGS_MODULE'] = 'testapp.settings'\n",
    "# django.setup()\n",
    "\n",
    "# from django import test\n",
    "# from django.db import connection\n",
    "# test.utils.setup_test_environment() # Setup the environment\n",
    "# db = connection.creation.create_test_db() # Create the test db\n",
    "\n",
    "# from testapp.tests.abstract_models import AbstractModelTests\n",
    "# AbstractModelTests().setUp()"
   ]
  },
  {
   "cell_type": "code",
   "execution_count": 3,
   "metadata": {},
   "outputs": [
    {
     "name": "stderr",
     "output_type": "stream",
     "text": [
      "/home/pvankessel/.local/lib/python3.7/site-packages/statsmodels/tools/_testing.py:19: FutureWarning: pandas.util.testing is deprecated. Use the functions in the public API at pandas.testing instead.\n",
      "  import pandas.util.testing as tm\n"
     ]
    }
   ],
   "source": [
    "# Something we should probably add to django_pewtils\n",
    "def set_up_django_project(project_name, project_path, env_file=None):\n",
    "    \n",
    "    import django\n",
    "    import os, sys\n",
    "    import numpy as np\n",
    "    from contextlib import closing\n",
    "\n",
    "    from rasterio.env import GDALDataFinder\n",
    "    os.environ[\"DJANGO_ALLOW_ASYNC_UNSAFE\"] = \"true\"\n",
    "    os.environ[\"DJANGO_SETTINGS_MODULE\"] = \"{}.settings\".format(project_name)\n",
    "    os.environ[\"GDAL_DATA\"] = GDALDataFinder().search()\n",
    "    \n",
    "    if env_file:\n",
    "        with closing(open(env_file, \"r\")) as infile:\n",
    "            for line in infile.readlines():\n",
    "                key = line.split(\"=\")[0]\n",
    "                if key != \"PYTHONPATH\":\n",
    "                    value = \"=\".join(line.split(\"=\")[1:]).strip('\"').strip(\"\\n\")\n",
    "                    os.environ[key] = value\n",
    "\n",
    "    for i, path in enumerate({project_path, '{}/src'.format(project_path)}):\n",
    "        try:\n",
    "            del sys.path[sys.path.index(path)]\n",
    "        except ValueError:\n",
    "            pass\n",
    "        sys.path.insert(i, path)\n",
    "    for folder in os.listdir('{}/src'.format(project_path)):\n",
    "        sys.path.insert(0, os.path.join(project_path, \"src\", folder))\n",
    "    if \"/apps/prod\" not in project_path:\n",
    "        for path in list(sys.path):\n",
    "            if '/apps/prod' in path:\n",
    "                del sys.path[sys.path.index(path)]\n",
    "    \n",
    "    django.setup()\n",
    "    \n",
    "# Change the folder paths to wherever you have sermonator checked out\n",
    "set_up_django_project(\n",
    "    \"logos\", \n",
    "    PROJECT_FOLDER, \n",
    "    env_file=\"{}/deploy/prod/master/conf/logos.env\".format(PROJECT_FOLDER)\n",
    ")"
   ]
  },
  {
   "cell_type": "code",
   "execution_count": 4,
   "metadata": {},
   "outputs": [],
   "source": [
    "from logos.models import *"
   ]
  },
  {
   "cell_type": "markdown",
   "metadata": {},
   "source": [
    "# Basic functions"
   ]
  },
  {
   "cell_type": "code",
   "execution_count": 5,
   "metadata": {},
   "outputs": [],
   "source": [
    "from django_pewtils import get_model"
   ]
  },
  {
   "cell_type": "code",
   "execution_count": 6,
   "metadata": {},
   "outputs": [
    {
     "data": {
      "text/plain": [
       "logos.models.facebook.FacebookPage"
      ]
     },
     "execution_count": 6,
     "metadata": {},
     "output_type": "execute_result"
    }
   ],
   "source": [
    "get_model(\"facebook page\")"
   ]
  },
  {
   "cell_type": "code",
   "execution_count": 7,
   "metadata": {},
   "outputs": [
    {
     "data": {
      "text/plain": [
       "logos.models.facebook.FacebookPage"
      ]
     },
     "execution_count": 7,
     "metadata": {},
     "output_type": "execute_result"
    }
   ],
   "source": [
    "get_model(\"facebookpage\")"
   ]
  },
  {
   "cell_type": "code",
   "execution_count": 8,
   "metadata": {},
   "outputs": [
    {
     "data": {
      "text/plain": [
       "logos.models.facebook.FacebookPage"
      ]
     },
     "execution_count": 8,
     "metadata": {},
     "output_type": "execute_result"
    }
   ],
   "source": [
    "get_model(\"Facebook_Page\")"
   ]
  },
  {
   "cell_type": "code",
   "execution_count": 9,
   "metadata": {},
   "outputs": [
    {
     "data": {
      "text/plain": [
       "django.contrib.contenttypes.models.ContentType"
      ]
     },
     "execution_count": 9,
     "metadata": {},
     "output_type": "execute_result"
    }
   ],
   "source": [
    "get_model(\"contenttype\")"
   ]
  },
  {
   "cell_type": "code",
   "execution_count": 10,
   "metadata": {},
   "outputs": [
    {
     "data": {
      "text/plain": [
       "django_learning.models.documents.Document"
      ]
     },
     "execution_count": 10,
     "metadata": {},
     "output_type": "execute_result"
    }
   ],
   "source": [
    "get_model(\"document\")"
   ]
  },
  {
   "cell_type": "code",
   "execution_count": 11,
   "metadata": {},
   "outputs": [],
   "source": [
    "from django_pewtils import reset_django_connection\n",
    "reset_django_connection(app_name=\"logos\")"
   ]
  },
  {
   "cell_type": "code",
   "execution_count": 12,
   "metadata": {},
   "outputs": [
    {
     "data": {
      "text/plain": [
       "['education_bachelors',\n",
       " 'age',\n",
       " 'votes_for',\n",
       " 'staffers',\n",
       " 'education_bachelors_institution',\n",
       " 'twitter_profiles',\n",
       " 'webpages',\n",
       " 'votes_against',\n",
       " 'military_service_branch',\n",
       " 'press_releases',\n",
       " 'facebook_pages',\n",
       " 'ballotpedia_id',\n",
       " 'has_press_release_scraper',\n",
       " 'command_logs',\n",
       " 'last_name',\n",
       " 'education_associates',\n",
       " 'education_md_institution',\n",
       " 'contributions_donated',\n",
       " 'ranking_member_committees',\n",
       " 'military_service',\n",
       " 'committees',\n",
       " 'elections_won',\n",
       " 'current_term_id',\n",
       " 'cosponsored_bills',\n",
       " 'current_term',\n",
       " 'caucuses',\n",
       " 'valid_wikipedia_id',\n",
       " 'fec_ids',\n",
       " 'education_jd_institution',\n",
       " 'suffix',\n",
       " 'image_src',\n",
       " 'latest_term_id',\n",
       " 'education_masters_institution',\n",
       " 'profession',\n",
       " 'education_jd',\n",
       " 'military_service_years',\n",
       " 'ballotpedia_page',\n",
       " 'nickname',\n",
       " 'icpsr_id',\n",
       " 'chaired_committees',\n",
       " 'personal_metrics',\n",
       " 'birthday',\n",
       " 'old_facebook_ids',\n",
       " 'middle_initial',\n",
       " 'twitter_ids',\n",
       " 'incumbent_elections',\n",
       " 'lis_id',\n",
       " 'education_associates_institution',\n",
       " 'in_office',\n",
       " 'id',\n",
       " 'campaigns',\n",
       " 'wikipedia_id',\n",
       " 'instagram_ids',\n",
       " 'commands',\n",
       " 'party',\n",
       " 'education_phd',\n",
       " 'hearings',\n",
       " 'wikipedia_page',\n",
       " 'old_twitter_ids',\n",
       " 'committee_memberships',\n",
       " 'party_id',\n",
       " 'terms',\n",
       " 'gender',\n",
       " 'old_instagram_ids',\n",
       " 'facebook_ids',\n",
       " 'valid_ballotpedia_id',\n",
       " 'govtrack_id',\n",
       " 'sponsored_bills',\n",
       " 'speeches',\n",
       " 'latest_term',\n",
       " 'capitol_words_speech_backfill',\n",
       " 'bioguide_bio',\n",
       " 'bioguide_id',\n",
       " 'education_phd_institution',\n",
       " 'education_md',\n",
       " 'education_masters',\n",
       " 'opensecrets_id',\n",
       " 'contributions_received',\n",
       " 'scrape_logs',\n",
       " 'votes_abstained',\n",
       " 'relevant_news_articles',\n",
       " 'thomas_id',\n",
       " 'first_name',\n",
       " 'religion',\n",
       " 'birthplace',\n",
       " 'verifications']"
      ]
     },
     "execution_count": 12,
     "metadata": {},
     "output_type": "execute_result"
    }
   ],
   "source": [
    "from django_pewtils import get_all_field_names\n",
    "get_all_field_names(Politician)"
   ]
  },
  {
   "cell_type": "markdown",
   "metadata": {},
   "source": [
    "# The core of Django Pewtils: the `BasicExtendedModel` and `BasicExtendedManager`"
   ]
  },
  {
   "cell_type": "markdown",
   "metadata": {},
   "source": [
    "Django Pewtils' main purpose is to extend the Django ORM with useful functions for working with records and queries in your database.  The overwhelming majority of these functions can be found on two classes.  The `BasicExtendedModel` extends Django's base Model class with additional row-level functions, and the `BasicExtendedManager` extends Django's base Manager class with additional table/query-level functions.  To use these extended classes, just swap out `models.Model` for `BasicExtendedModel` in your model definition.  It uses `BasicExtendedManager` by default, so you don't even have to worry about that.\n",
    "\n",
    "```python\n",
    "    class TestModel(BasicExtendedModel):\n",
    "        pass\n",
    "```"
   ]
  },
  {
   "cell_type": "markdown",
   "metadata": {},
   "source": [
    "Let's start by taking a look at the Politician table, which contains members of Congress, presidential candidates, and other politicians"
   ]
  },
  {
   "cell_type": "code",
   "execution_count": 13,
   "metadata": {},
   "outputs": [],
   "source": [
    "politicians = Politician.objects.all()"
   ]
  },
  {
   "cell_type": "code",
   "execution_count": 14,
   "metadata": {},
   "outputs": [
    {
     "data": {
      "text/plain": [
       "<PoliticianManager [<Politician: John Michael Fleig>, <Politician: James Berryhill>, <Politician: Joseph C Miechowicz>, <Politician: James Edgar Sr Md Lundeen>, <Politician: Daniel Cochcran 'Dc' Morrison>, <Politician: Mary Pallant>, <Politician: Charles Taylor Sutherland>, <Politician: Demetrios S Giannaros>, <Politician: Corinne Nicole Westerfield>, <Politician: Joseph M Kyrillos Jr>, <Politician: Paul Andrew Rundquist>, <Politician: Jim Bussler>, <Politician: Sona Mehring>, <Politician: William G. Barnes>, <Politician: Carol Ann Joyce Larosa>, <Politician: John R. Cox>, <Politician: >, <Politician: Go Vegan Go Vegan>, <Politician: Trish Causey>, <Politician: Christopher Alen Andrade>, '...(remaining elements truncated)...']>"
      ]
     },
     "execution_count": 14,
     "metadata": {},
     "output_type": "execute_result"
    }
   ],
   "source": [
    "politicians"
   ]
  },
  {
   "cell_type": "code",
   "execution_count": 15,
   "metadata": {},
   "outputs": [
    {
     "data": {
      "text/plain": [
       "20673"
      ]
     },
     "execution_count": 15,
     "metadata": {},
     "output_type": "execute_result"
    }
   ],
   "source": [
    "politicians.count()"
   ]
  },
  {
   "cell_type": "markdown",
   "metadata": {},
   "source": [
    "If we wanted to quickly grab all of this data and start crunching numbers, we can do that easily by using the `.to_df` function provided by the `BasicExtendedManager`, which converts any arbitrary Django query into a Pandas DataFrame.  Just watch your memory with big queries!"
   ]
  },
  {
   "cell_type": "code",
   "execution_count": 16,
   "metadata": {},
   "outputs": [
    {
     "data": {
      "text/html": [
       "<div>\n",
       "<style scoped>\n",
       "    .dataframe tbody tr th:only-of-type {\n",
       "        vertical-align: middle;\n",
       "    }\n",
       "\n",
       "    .dataframe tbody tr th {\n",
       "        vertical-align: top;\n",
       "    }\n",
       "\n",
       "    .dataframe thead th {\n",
       "        text-align: right;\n",
       "    }\n",
       "</style>\n",
       "<table border=\"1\" class=\"dataframe\">\n",
       "  <thead>\n",
       "    <tr style=\"text-align: right;\">\n",
       "      <th></th>\n",
       "      <th>id</th>\n",
       "      <th>first_name</th>\n",
       "      <th>middle_initial</th>\n",
       "      <th>last_name</th>\n",
       "      <th>nickname</th>\n",
       "      <th>suffix</th>\n",
       "      <th>has_press_release_scraper</th>\n",
       "      <th>religion</th>\n",
       "      <th>gender</th>\n",
       "      <th>birthday</th>\n",
       "      <th>...</th>\n",
       "      <th>birthplace</th>\n",
       "      <th>military_service</th>\n",
       "      <th>military_service_years</th>\n",
       "      <th>military_service_branch</th>\n",
       "      <th>profession</th>\n",
       "      <th>bioguide_bio</th>\n",
       "      <th>current_term_id</th>\n",
       "      <th>latest_term_id</th>\n",
       "      <th>party_id</th>\n",
       "      <th>in_office</th>\n",
       "    </tr>\n",
       "  </thead>\n",
       "  <tbody>\n",
       "    <tr>\n",
       "      <th>0</th>\n",
       "      <td>49974</td>\n",
       "      <td>John</td>\n",
       "      <td>Michael</td>\n",
       "      <td>Fleig</td>\n",
       "      <td></td>\n",
       "      <td></td>\n",
       "      <td>False</td>\n",
       "      <td>None</td>\n",
       "      <td>None</td>\n",
       "      <td>NaT</td>\n",
       "      <td>...</td>\n",
       "      <td>None</td>\n",
       "      <td>None</td>\n",
       "      <td>NaN</td>\n",
       "      <td>None</td>\n",
       "      <td>None</td>\n",
       "      <td>None</td>\n",
       "      <td>NaN</td>\n",
       "      <td>NaN</td>\n",
       "      <td>NaN</td>\n",
       "      <td>None</td>\n",
       "    </tr>\n",
       "    <tr>\n",
       "      <th>1</th>\n",
       "      <td>62869</td>\n",
       "      <td>James</td>\n",
       "      <td></td>\n",
       "      <td>Berryhill</td>\n",
       "      <td></td>\n",
       "      <td></td>\n",
       "      <td>False</td>\n",
       "      <td>None</td>\n",
       "      <td>None</td>\n",
       "      <td>NaT</td>\n",
       "      <td>...</td>\n",
       "      <td>None</td>\n",
       "      <td>None</td>\n",
       "      <td>NaN</td>\n",
       "      <td>None</td>\n",
       "      <td>None</td>\n",
       "      <td>None</td>\n",
       "      <td>NaN</td>\n",
       "      <td>NaN</td>\n",
       "      <td>NaN</td>\n",
       "      <td>None</td>\n",
       "    </tr>\n",
       "    <tr>\n",
       "      <th>2</th>\n",
       "      <td>49987</td>\n",
       "      <td>Joseph</td>\n",
       "      <td>C</td>\n",
       "      <td>Miechowicz</td>\n",
       "      <td></td>\n",
       "      <td></td>\n",
       "      <td>False</td>\n",
       "      <td>None</td>\n",
       "      <td>None</td>\n",
       "      <td>NaT</td>\n",
       "      <td>...</td>\n",
       "      <td>None</td>\n",
       "      <td>None</td>\n",
       "      <td>NaN</td>\n",
       "      <td>None</td>\n",
       "      <td>None</td>\n",
       "      <td>None</td>\n",
       "      <td>NaN</td>\n",
       "      <td>NaN</td>\n",
       "      <td>NaN</td>\n",
       "      <td>None</td>\n",
       "    </tr>\n",
       "    <tr>\n",
       "      <th>3</th>\n",
       "      <td>50087</td>\n",
       "      <td>James</td>\n",
       "      <td>Edgar Sr Md</td>\n",
       "      <td>Lundeen</td>\n",
       "      <td></td>\n",
       "      <td></td>\n",
       "      <td>False</td>\n",
       "      <td>None</td>\n",
       "      <td>None</td>\n",
       "      <td>NaT</td>\n",
       "      <td>...</td>\n",
       "      <td>None</td>\n",
       "      <td>None</td>\n",
       "      <td>NaN</td>\n",
       "      <td>None</td>\n",
       "      <td>None</td>\n",
       "      <td>None</td>\n",
       "      <td>NaN</td>\n",
       "      <td>NaN</td>\n",
       "      <td>NaN</td>\n",
       "      <td>None</td>\n",
       "    </tr>\n",
       "    <tr>\n",
       "      <th>4</th>\n",
       "      <td>50108</td>\n",
       "      <td>Daniel</td>\n",
       "      <td>Cochcran</td>\n",
       "      <td>Morrison</td>\n",
       "      <td>Dc</td>\n",
       "      <td></td>\n",
       "      <td>False</td>\n",
       "      <td>None</td>\n",
       "      <td>None</td>\n",
       "      <td>NaT</td>\n",
       "      <td>...</td>\n",
       "      <td>None</td>\n",
       "      <td>None</td>\n",
       "      <td>NaN</td>\n",
       "      <td>None</td>\n",
       "      <td>None</td>\n",
       "      <td>None</td>\n",
       "      <td>NaN</td>\n",
       "      <td>NaN</td>\n",
       "      <td>NaN</td>\n",
       "      <td>None</td>\n",
       "    </tr>\n",
       "    <tr>\n",
       "      <th>...</th>\n",
       "      <td>...</td>\n",
       "      <td>...</td>\n",
       "      <td>...</td>\n",
       "      <td>...</td>\n",
       "      <td>...</td>\n",
       "      <td>...</td>\n",
       "      <td>...</td>\n",
       "      <td>...</td>\n",
       "      <td>...</td>\n",
       "      <td>...</td>\n",
       "      <td>...</td>\n",
       "      <td>...</td>\n",
       "      <td>...</td>\n",
       "      <td>...</td>\n",
       "      <td>...</td>\n",
       "      <td>...</td>\n",
       "      <td>...</td>\n",
       "      <td>...</td>\n",
       "      <td>...</td>\n",
       "      <td>...</td>\n",
       "      <td>...</td>\n",
       "    </tr>\n",
       "    <tr>\n",
       "      <th>20668</th>\n",
       "      <td>58883</td>\n",
       "      <td>Julio</td>\n",
       "      <td></td>\n",
       "      <td>Castaneda</td>\n",
       "      <td></td>\n",
       "      <td></td>\n",
       "      <td>False</td>\n",
       "      <td>None</td>\n",
       "      <td>None</td>\n",
       "      <td>NaT</td>\n",
       "      <td>...</td>\n",
       "      <td>None</td>\n",
       "      <td>None</td>\n",
       "      <td>NaN</td>\n",
       "      <td>None</td>\n",
       "      <td>None</td>\n",
       "      <td>None</td>\n",
       "      <td>NaN</td>\n",
       "      <td>NaN</td>\n",
       "      <td>NaN</td>\n",
       "      <td>None</td>\n",
       "    </tr>\n",
       "    <tr>\n",
       "      <th>20669</th>\n",
       "      <td>58884</td>\n",
       "      <td>Samir</td>\n",
       "      <td></td>\n",
       "      <td>Jammal</td>\n",
       "      <td></td>\n",
       "      <td></td>\n",
       "      <td>False</td>\n",
       "      <td>None</td>\n",
       "      <td>None</td>\n",
       "      <td>NaT</td>\n",
       "      <td>...</td>\n",
       "      <td>None</td>\n",
       "      <td>None</td>\n",
       "      <td>NaN</td>\n",
       "      <td>None</td>\n",
       "      <td>None</td>\n",
       "      <td>None</td>\n",
       "      <td>NaN</td>\n",
       "      <td>NaN</td>\n",
       "      <td>NaN</td>\n",
       "      <td>None</td>\n",
       "    </tr>\n",
       "    <tr>\n",
       "      <th>20670</th>\n",
       "      <td>58911</td>\n",
       "      <td>Brian</td>\n",
       "      <td></td>\n",
       "      <td>Forde</td>\n",
       "      <td></td>\n",
       "      <td></td>\n",
       "      <td>False</td>\n",
       "      <td>None</td>\n",
       "      <td>None</td>\n",
       "      <td>NaT</td>\n",
       "      <td>...</td>\n",
       "      <td>None</td>\n",
       "      <td>None</td>\n",
       "      <td>NaN</td>\n",
       "      <td>None</td>\n",
       "      <td>None</td>\n",
       "      <td>None</td>\n",
       "      <td>NaN</td>\n",
       "      <td>NaN</td>\n",
       "      <td>NaN</td>\n",
       "      <td>None</td>\n",
       "    </tr>\n",
       "    <tr>\n",
       "      <th>20671</th>\n",
       "      <td>58657</td>\n",
       "      <td>Joshua</td>\n",
       "      <td>A</td>\n",
       "      <td>Mandel</td>\n",
       "      <td></td>\n",
       "      <td></td>\n",
       "      <td>False</td>\n",
       "      <td>None</td>\n",
       "      <td>None</td>\n",
       "      <td>NaT</td>\n",
       "      <td>...</td>\n",
       "      <td>None</td>\n",
       "      <td>None</td>\n",
       "      <td>NaN</td>\n",
       "      <td>None</td>\n",
       "      <td>None</td>\n",
       "      <td>None</td>\n",
       "      <td>NaN</td>\n",
       "      <td>NaN</td>\n",
       "      <td>NaN</td>\n",
       "      <td>None</td>\n",
       "    </tr>\n",
       "    <tr>\n",
       "      <th>20672</th>\n",
       "      <td>58689</td>\n",
       "      <td>Robert</td>\n",
       "      <td></td>\n",
       "      <td>Kennedy</td>\n",
       "      <td></td>\n",
       "      <td>Jr.</td>\n",
       "      <td>False</td>\n",
       "      <td>None</td>\n",
       "      <td>None</td>\n",
       "      <td>NaT</td>\n",
       "      <td>...</td>\n",
       "      <td>None</td>\n",
       "      <td>None</td>\n",
       "      <td>NaN</td>\n",
       "      <td>None</td>\n",
       "      <td>None</td>\n",
       "      <td>None</td>\n",
       "      <td>NaN</td>\n",
       "      <td>NaN</td>\n",
       "      <td>NaN</td>\n",
       "      <td>None</td>\n",
       "    </tr>\n",
       "  </tbody>\n",
       "</table>\n",
       "<p>20673 rows × 52 columns</p>\n",
       "</div>"
      ],
      "text/plain": [
       "          id first_name middle_initial   last_name nickname suffix  \\\n",
       "0      49974       John        Michael       Fleig                   \n",
       "1      62869      James                  Berryhill                   \n",
       "2      49987     Joseph              C  Miechowicz                   \n",
       "3      50087      James    Edgar Sr Md     Lundeen                   \n",
       "4      50108     Daniel       Cochcran    Morrison       Dc          \n",
       "...      ...        ...            ...         ...      ...    ...   \n",
       "20668  58883      Julio                  Castaneda                   \n",
       "20669  58884      Samir                     Jammal                   \n",
       "20670  58911      Brian                      Forde                   \n",
       "20671  58657     Joshua              A      Mandel                   \n",
       "20672  58689     Robert                    Kennedy             Jr.   \n",
       "\n",
       "       has_press_release_scraper religion gender birthday  ...  birthplace  \\\n",
       "0                          False     None   None      NaT  ...        None   \n",
       "1                          False     None   None      NaT  ...        None   \n",
       "2                          False     None   None      NaT  ...        None   \n",
       "3                          False     None   None      NaT  ...        None   \n",
       "4                          False     None   None      NaT  ...        None   \n",
       "...                          ...      ...    ...      ...  ...         ...   \n",
       "20668                      False     None   None      NaT  ...        None   \n",
       "20669                      False     None   None      NaT  ...        None   \n",
       "20670                      False     None   None      NaT  ...        None   \n",
       "20671                      False     None   None      NaT  ...        None   \n",
       "20672                      False     None   None      NaT  ...        None   \n",
       "\n",
       "      military_service military_service_years military_service_branch  \\\n",
       "0                 None                    NaN                    None   \n",
       "1                 None                    NaN                    None   \n",
       "2                 None                    NaN                    None   \n",
       "3                 None                    NaN                    None   \n",
       "4                 None                    NaN                    None   \n",
       "...                ...                    ...                     ...   \n",
       "20668             None                    NaN                    None   \n",
       "20669             None                    NaN                    None   \n",
       "20670             None                    NaN                    None   \n",
       "20671             None                    NaN                    None   \n",
       "20672             None                    NaN                    None   \n",
       "\n",
       "      profession bioguide_bio current_term_id latest_term_id party_id  \\\n",
       "0           None         None             NaN            NaN      NaN   \n",
       "1           None         None             NaN            NaN      NaN   \n",
       "2           None         None             NaN            NaN      NaN   \n",
       "3           None         None             NaN            NaN      NaN   \n",
       "4           None         None             NaN            NaN      NaN   \n",
       "...          ...          ...             ...            ...      ...   \n",
       "20668       None         None             NaN            NaN      NaN   \n",
       "20669       None         None             NaN            NaN      NaN   \n",
       "20670       None         None             NaN            NaN      NaN   \n",
       "20671       None         None             NaN            NaN      NaN   \n",
       "20672       None         None             NaN            NaN      NaN   \n",
       "\n",
       "      in_office  \n",
       "0          None  \n",
       "1          None  \n",
       "2          None  \n",
       "3          None  \n",
       "4          None  \n",
       "...         ...  \n",
       "20668      None  \n",
       "20669      None  \n",
       "20670      None  \n",
       "20671      None  \n",
       "20672      None  \n",
       "\n",
       "[20673 rows x 52 columns]"
      ]
     },
     "execution_count": 16,
     "metadata": {},
     "output_type": "execute_result"
    }
   ],
   "source": [
    "politicians.to_df()"
   ]
  },
  {
   "cell_type": "markdown",
   "metadata": {},
   "source": [
    "We could also pull a random sample using `.sample`"
   ]
  },
  {
   "cell_type": "code",
   "execution_count": 17,
   "metadata": {},
   "outputs": [
    {
     "data": {
      "text/plain": [
       "<PoliticianManager [<Politician: Gene Eugene Green>, <Politician: Michael C Hight>, <Politician: Jason Kander>, <Politician: Steven Edward Mirabella>, <Politician: Harold L Whitfield>, <Politician: Sheirl Lee Fletcher>, <Politician: Joe Manchik>, <Politician: Charles Wayne Dowdy>, <Politician: Nicholas Tutora>, <Politician: Matthew Caroll Hook>]>"
      ]
     },
     "execution_count": 17,
     "metadata": {},
     "output_type": "execute_result"
    }
   ],
   "source": [
    "politicians.sample(10)"
   ]
  },
  {
   "cell_type": "code",
   "execution_count": 18,
   "metadata": {},
   "outputs": [
    {
     "data": {
      "text/html": [
       "<div>\n",
       "<style scoped>\n",
       "    .dataframe tbody tr th:only-of-type {\n",
       "        vertical-align: middle;\n",
       "    }\n",
       "\n",
       "    .dataframe tbody tr th {\n",
       "        vertical-align: top;\n",
       "    }\n",
       "\n",
       "    .dataframe thead th {\n",
       "        text-align: right;\n",
       "    }\n",
       "</style>\n",
       "<table border=\"1\" class=\"dataframe\">\n",
       "  <thead>\n",
       "    <tr style=\"text-align: right;\">\n",
       "      <th></th>\n",
       "      <th>id</th>\n",
       "      <th>first_name</th>\n",
       "      <th>middle_initial</th>\n",
       "      <th>last_name</th>\n",
       "      <th>nickname</th>\n",
       "      <th>suffix</th>\n",
       "      <th>has_press_release_scraper</th>\n",
       "      <th>religion</th>\n",
       "      <th>gender</th>\n",
       "      <th>birthday</th>\n",
       "      <th>...</th>\n",
       "      <th>birthplace</th>\n",
       "      <th>military_service</th>\n",
       "      <th>military_service_years</th>\n",
       "      <th>military_service_branch</th>\n",
       "      <th>profession</th>\n",
       "      <th>bioguide_bio</th>\n",
       "      <th>current_term_id</th>\n",
       "      <th>latest_term_id</th>\n",
       "      <th>party_id</th>\n",
       "      <th>in_office</th>\n",
       "    </tr>\n",
       "  </thead>\n",
       "  <tbody>\n",
       "    <tr>\n",
       "      <th>0</th>\n",
       "      <td>5804</td>\n",
       "      <td>Eric</td>\n",
       "      <td>J. J.</td>\n",
       "      <td>Massa</td>\n",
       "      <td></td>\n",
       "      <td></td>\n",
       "      <td>False</td>\n",
       "      <td>None</td>\n",
       "      <td>M</td>\n",
       "      <td>1959-09-16</td>\n",
       "      <td>...</td>\n",
       "      <td>None</td>\n",
       "      <td>None</td>\n",
       "      <td>None</td>\n",
       "      <td>None</td>\n",
       "      <td>None</td>\n",
       "      <td>MASSA, Eric J.J., a Representative from New Yo...</td>\n",
       "      <td>None</td>\n",
       "      <td>9827.0</td>\n",
       "      <td>26.0</td>\n",
       "      <td>False</td>\n",
       "    </tr>\n",
       "    <tr>\n",
       "      <th>1</th>\n",
       "      <td>45570</td>\n",
       "      <td>Peter</td>\n",
       "      <td></td>\n",
       "      <td>Vivaldi</td>\n",
       "      <td></td>\n",
       "      <td></td>\n",
       "      <td>False</td>\n",
       "      <td>None</td>\n",
       "      <td>None</td>\n",
       "      <td>NaT</td>\n",
       "      <td>...</td>\n",
       "      <td>None</td>\n",
       "      <td>None</td>\n",
       "      <td>None</td>\n",
       "      <td>None</td>\n",
       "      <td>None</td>\n",
       "      <td>None</td>\n",
       "      <td>None</td>\n",
       "      <td>NaN</td>\n",
       "      <td>NaN</td>\n",
       "      <td>None</td>\n",
       "    </tr>\n",
       "    <tr>\n",
       "      <th>2</th>\n",
       "      <td>47758</td>\n",
       "      <td>James</td>\n",
       "      <td>A</td>\n",
       "      <td>Hayden</td>\n",
       "      <td></td>\n",
       "      <td></td>\n",
       "      <td>False</td>\n",
       "      <td>None</td>\n",
       "      <td>None</td>\n",
       "      <td>NaT</td>\n",
       "      <td>...</td>\n",
       "      <td>None</td>\n",
       "      <td>None</td>\n",
       "      <td>None</td>\n",
       "      <td>None</td>\n",
       "      <td>None</td>\n",
       "      <td>None</td>\n",
       "      <td>None</td>\n",
       "      <td>NaN</td>\n",
       "      <td>NaN</td>\n",
       "      <td>None</td>\n",
       "    </tr>\n",
       "    <tr>\n",
       "      <th>3</th>\n",
       "      <td>51324</td>\n",
       "      <td>Clinton</td>\n",
       "      <td></td>\n",
       "      <td>Desjarlais</td>\n",
       "      <td></td>\n",
       "      <td></td>\n",
       "      <td>False</td>\n",
       "      <td>None</td>\n",
       "      <td>None</td>\n",
       "      <td>NaT</td>\n",
       "      <td>...</td>\n",
       "      <td>None</td>\n",
       "      <td>None</td>\n",
       "      <td>None</td>\n",
       "      <td>None</td>\n",
       "      <td>None</td>\n",
       "      <td>None</td>\n",
       "      <td>None</td>\n",
       "      <td>NaN</td>\n",
       "      <td>NaN</td>\n",
       "      <td>None</td>\n",
       "    </tr>\n",
       "    <tr>\n",
       "      <th>4</th>\n",
       "      <td>54965</td>\n",
       "      <td>Adam</td>\n",
       "      <td>D</td>\n",
       "      <td>Shaffer</td>\n",
       "      <td></td>\n",
       "      <td></td>\n",
       "      <td>False</td>\n",
       "      <td>None</td>\n",
       "      <td>None</td>\n",
       "      <td>NaT</td>\n",
       "      <td>...</td>\n",
       "      <td>None</td>\n",
       "      <td>None</td>\n",
       "      <td>None</td>\n",
       "      <td>None</td>\n",
       "      <td>None</td>\n",
       "      <td>None</td>\n",
       "      <td>None</td>\n",
       "      <td>NaN</td>\n",
       "      <td>NaN</td>\n",
       "      <td>None</td>\n",
       "    </tr>\n",
       "    <tr>\n",
       "      <th>5</th>\n",
       "      <td>55248</td>\n",
       "      <td>Myrtle</td>\n",
       "      <td>Charlotte Montomery</td>\n",
       "      <td>Carlyle</td>\n",
       "      <td></td>\n",
       "      <td></td>\n",
       "      <td>False</td>\n",
       "      <td>None</td>\n",
       "      <td>None</td>\n",
       "      <td>NaT</td>\n",
       "      <td>...</td>\n",
       "      <td>None</td>\n",
       "      <td>None</td>\n",
       "      <td>None</td>\n",
       "      <td>None</td>\n",
       "      <td>None</td>\n",
       "      <td>None</td>\n",
       "      <td>None</td>\n",
       "      <td>NaN</td>\n",
       "      <td>NaN</td>\n",
       "      <td>None</td>\n",
       "    </tr>\n",
       "    <tr>\n",
       "      <th>6</th>\n",
       "      <td>57725</td>\n",
       "      <td>Billy</td>\n",
       "      <td></td>\n",
       "      <td>Falling</td>\n",
       "      <td></td>\n",
       "      <td></td>\n",
       "      <td>False</td>\n",
       "      <td>None</td>\n",
       "      <td>None</td>\n",
       "      <td>NaT</td>\n",
       "      <td>...</td>\n",
       "      <td>None</td>\n",
       "      <td>None</td>\n",
       "      <td>None</td>\n",
       "      <td>None</td>\n",
       "      <td>None</td>\n",
       "      <td>None</td>\n",
       "      <td>None</td>\n",
       "      <td>NaN</td>\n",
       "      <td>NaN</td>\n",
       "      <td>None</td>\n",
       "    </tr>\n",
       "    <tr>\n",
       "      <th>7</th>\n",
       "      <td>59130</td>\n",
       "      <td>Angie</td>\n",
       "      <td></td>\n",
       "      <td>Chirino</td>\n",
       "      <td></td>\n",
       "      <td></td>\n",
       "      <td>False</td>\n",
       "      <td>None</td>\n",
       "      <td>None</td>\n",
       "      <td>NaT</td>\n",
       "      <td>...</td>\n",
       "      <td>None</td>\n",
       "      <td>None</td>\n",
       "      <td>None</td>\n",
       "      <td>None</td>\n",
       "      <td>None</td>\n",
       "      <td>None</td>\n",
       "      <td>None</td>\n",
       "      <td>NaN</td>\n",
       "      <td>NaN</td>\n",
       "      <td>None</td>\n",
       "    </tr>\n",
       "    <tr>\n",
       "      <th>8</th>\n",
       "      <td>61854</td>\n",
       "      <td>Wednesday</td>\n",
       "      <td>Alexandra</td>\n",
       "      <td>Green</td>\n",
       "      <td></td>\n",
       "      <td></td>\n",
       "      <td>False</td>\n",
       "      <td>None</td>\n",
       "      <td>None</td>\n",
       "      <td>NaT</td>\n",
       "      <td>...</td>\n",
       "      <td>None</td>\n",
       "      <td>None</td>\n",
       "      <td>None</td>\n",
       "      <td>None</td>\n",
       "      <td>None</td>\n",
       "      <td>None</td>\n",
       "      <td>None</td>\n",
       "      <td>NaN</td>\n",
       "      <td>NaN</td>\n",
       "      <td>None</td>\n",
       "    </tr>\n",
       "    <tr>\n",
       "      <th>9</th>\n",
       "      <td>64080</td>\n",
       "      <td>Chris</td>\n",
       "      <td>B.</td>\n",
       "      <td>Royal</td>\n",
       "      <td></td>\n",
       "      <td></td>\n",
       "      <td>False</td>\n",
       "      <td>None</td>\n",
       "      <td>None</td>\n",
       "      <td>NaT</td>\n",
       "      <td>...</td>\n",
       "      <td>None</td>\n",
       "      <td>None</td>\n",
       "      <td>None</td>\n",
       "      <td>None</td>\n",
       "      <td>None</td>\n",
       "      <td>None</td>\n",
       "      <td>None</td>\n",
       "      <td>NaN</td>\n",
       "      <td>NaN</td>\n",
       "      <td>None</td>\n",
       "    </tr>\n",
       "  </tbody>\n",
       "</table>\n",
       "<p>10 rows × 52 columns</p>\n",
       "</div>"
      ],
      "text/plain": [
       "      id first_name       middle_initial   last_name nickname suffix  \\\n",
       "0   5804       Eric                J. J.       Massa                   \n",
       "1  45570      Peter                          Vivaldi                   \n",
       "2  47758      James                    A      Hayden                   \n",
       "3  51324    Clinton                       Desjarlais                   \n",
       "4  54965       Adam                    D     Shaffer                   \n",
       "5  55248     Myrtle  Charlotte Montomery     Carlyle                   \n",
       "6  57725      Billy                          Falling                   \n",
       "7  59130      Angie                          Chirino                   \n",
       "8  61854  Wednesday            Alexandra       Green                   \n",
       "9  64080      Chris                   B.       Royal                   \n",
       "\n",
       "   has_press_release_scraper religion gender   birthday  ...  birthplace  \\\n",
       "0                      False     None      M 1959-09-16  ...        None   \n",
       "1                      False     None   None        NaT  ...        None   \n",
       "2                      False     None   None        NaT  ...        None   \n",
       "3                      False     None   None        NaT  ...        None   \n",
       "4                      False     None   None        NaT  ...        None   \n",
       "5                      False     None   None        NaT  ...        None   \n",
       "6                      False     None   None        NaT  ...        None   \n",
       "7                      False     None   None        NaT  ...        None   \n",
       "8                      False     None   None        NaT  ...        None   \n",
       "9                      False     None   None        NaT  ...        None   \n",
       "\n",
       "  military_service military_service_years military_service_branch profession  \\\n",
       "0             None                   None                    None       None   \n",
       "1             None                   None                    None       None   \n",
       "2             None                   None                    None       None   \n",
       "3             None                   None                    None       None   \n",
       "4             None                   None                    None       None   \n",
       "5             None                   None                    None       None   \n",
       "6             None                   None                    None       None   \n",
       "7             None                   None                    None       None   \n",
       "8             None                   None                    None       None   \n",
       "9             None                   None                    None       None   \n",
       "\n",
       "                                        bioguide_bio current_term_id  \\\n",
       "0  MASSA, Eric J.J., a Representative from New Yo...            None   \n",
       "1                                               None            None   \n",
       "2                                               None            None   \n",
       "3                                               None            None   \n",
       "4                                               None            None   \n",
       "5                                               None            None   \n",
       "6                                               None            None   \n",
       "7                                               None            None   \n",
       "8                                               None            None   \n",
       "9                                               None            None   \n",
       "\n",
       "  latest_term_id party_id in_office  \n",
       "0         9827.0     26.0     False  \n",
       "1            NaN      NaN      None  \n",
       "2            NaN      NaN      None  \n",
       "3            NaN      NaN      None  \n",
       "4            NaN      NaN      None  \n",
       "5            NaN      NaN      None  \n",
       "6            NaN      NaN      None  \n",
       "7            NaN      NaN      None  \n",
       "8            NaN      NaN      None  \n",
       "9            NaN      NaN      None  \n",
       "\n",
       "[10 rows x 52 columns]"
      ]
     },
     "execution_count": 18,
     "metadata": {},
     "output_type": "execute_result"
    }
   ],
   "source": [
    "politicians.sample(10).to_df()"
   ]
  },
  {
   "cell_type": "markdown",
   "metadata": {},
   "source": [
    "The Politician table isn't _super_ large, but if it was, fully evaluating the query could cause you problems - by default, Django will try to load queries into memory, even if you're just trying to loop over each record and do something with it one at a time.  To help with this, the `.chunk` function will efficiently load the full list of primary keys in your query and iterate over them in chunks, to keep things light."
   ]
  },
  {
   "cell_type": "code",
   "execution_count": 19,
   "metadata": {},
   "outputs": [],
   "source": [
    "for obj in politicians.chunk(size=1000):  # Behind the scenes, Django Pewtils will iterate over the records 1000 at a time\n",
    "    pass  # do something"
   ]
  },
  {
   "cell_type": "markdown",
   "metadata": {},
   "source": [
    "Similarly, if we want to make bulk changes to a set of records in a table, we can use the `chunk_update` function.  And if your query stalls when trying to delete records in bulk (like `politicians.delete()`), then the `chunk_delete` function can help you delete your records en masse.  (For obvious reasons, we won't be doing a live example of these here.)\n",
    "    \n",
    "```python\n",
    "    politicians.chunk_update(first_name=\"Bob\")\n",
    "```\n",
    "\n",
    "```python\n",
    "    politicians.chunk_delete()\n",
    "```"
   ]
  },
  {
   "cell_type": "markdown",
   "metadata": {},
   "source": [
    "Anyway, let's explore some of the other Django Pewtils functions with an example.  The records that we see in our Politician table didn't come from nowhere - we had to compile our database from a variety of different data sources.  The @unitedstates GitHub is a great place to start - it has tons of information on members of Congress, including their names, terms of office, social media accounts, and more.  But there are tons of other sources too: Wikipedia has extensive bios on Congress, the FEC provides detailed campaign finance data, etc.  To bring all of this data together, we need to harmonize records from these various sources - which can be difficult because different sources use different unique identifiers, and not all of the data is perfectly clean.  \n",
    "\n",
    "Let's see how Django Pewtils can help us with some of these challenges.  Let's imagine that Dwayne \"The Rock\" Johnson decides to run for President in 2024, but drops out of the race after losing to Oprah in the primaries, runs for Senate, gets elected there instead.  He first shows up in our database via the record below:"
   ]
  },
  {
   "cell_type": "code",
   "execution_count": 20,
   "metadata": {},
   "outputs": [
    {
     "data": {
      "text/plain": [
       "<Politician: Dwayne Johnson>"
      ]
     },
     "execution_count": 20,
     "metadata": {},
     "output_type": "execute_result"
    }
   ],
   "source": [
    "initial_record = {\n",
    "    \"bioguide_id\": \"J99999\",\n",
    "    \"first_name\": \"Dwayne\",\n",
    "    \"last_name\": \"Johnson\"\n",
    "}\n",
    "Politician.objects.create(**initial_record)\n",
    "Politician.objects.get(bioguide_id=\"J99999\")"
   ]
  },
  {
   "cell_type": "markdown",
   "metadata": {},
   "source": [
    "Now let's say we download data from another source that has some additional information on politicians - including the FEC ID for Senator Rock's failed presidential bid, and the ID for his campaign's Instagram account."
   ]
  },
  {
   "cell_type": "code",
   "execution_count": 21,
   "metadata": {},
   "outputs": [],
   "source": [
    "new_record = {\n",
    "    \"bioguide_id\": \"J99999\",\n",
    "    \"fec_ids\": [\"P99999\"],\n",
    "    \"last_name\": \"Johnson\",\n",
    "    \"nickname\": \"The Rock\",\n",
    "    \"instagram_ids\": [\"1234567890\"]\n",
    "}"
   ]
  },
  {
   "cell_type": "markdown",
   "metadata": {},
   "source": [
    "Since we've been good database architects and we've specified that `bioguide_id` is a unique field, if we try to create a new record for Mr. Rock, it's going to fail because our first record already exists."
   ]
  },
  {
   "cell_type": "code",
   "execution_count": 22,
   "metadata": {},
   "outputs": [
    {
     "ename": "IntegrityError",
     "evalue": "duplicate key value violates unique constraint \"logos_politician_bioguide_id_317c4279_uniq\"\nDETAIL:  Key (bioguide_id)=(J99999) already exists.\n",
     "output_type": "error",
     "traceback": [
      "\u001b[0;31m---------------------------------------------------------------------------\u001b[0m",
      "\u001b[0;31mUniqueViolation\u001b[0m                           Traceback (most recent call last)",
      "\u001b[0;32m~/.local/lib/python3.7/site-packages/django/db/backends/utils.py\u001b[0m in \u001b[0;36m_execute\u001b[0;34m(self, sql, params, *ignored_wrapper_args)\u001b[0m\n\u001b[1;32m     83\u001b[0m             \u001b[0;32melse\u001b[0m\u001b[0;34m:\u001b[0m\u001b[0;34m\u001b[0m\u001b[0;34m\u001b[0m\u001b[0m\n\u001b[0;32m---> 84\u001b[0;31m                 \u001b[0;32mreturn\u001b[0m \u001b[0mself\u001b[0m\u001b[0;34m.\u001b[0m\u001b[0mcursor\u001b[0m\u001b[0;34m.\u001b[0m\u001b[0mexecute\u001b[0m\u001b[0;34m(\u001b[0m\u001b[0msql\u001b[0m\u001b[0;34m,\u001b[0m \u001b[0mparams\u001b[0m\u001b[0;34m)\u001b[0m\u001b[0;34m\u001b[0m\u001b[0;34m\u001b[0m\u001b[0m\n\u001b[0m\u001b[1;32m     85\u001b[0m \u001b[0;34m\u001b[0m\u001b[0m\n",
      "\u001b[0;31mUniqueViolation\u001b[0m: duplicate key value violates unique constraint \"logos_politician_bioguide_id_317c4279_uniq\"\nDETAIL:  Key (bioguide_id)=(J99999) already exists.\n",
      "\nThe above exception was the direct cause of the following exception:\n",
      "\u001b[0;31mIntegrityError\u001b[0m                            Traceback (most recent call last)",
      "\u001b[0;32m<ipython-input-22-4cfe6540bccd>\u001b[0m in \u001b[0;36m<module>\u001b[0;34m\u001b[0m\n\u001b[0;32m----> 1\u001b[0;31m \u001b[0mPolitician\u001b[0m\u001b[0;34m.\u001b[0m\u001b[0mobjects\u001b[0m\u001b[0;34m.\u001b[0m\u001b[0mcreate\u001b[0m\u001b[0;34m(\u001b[0m\u001b[0;34m**\u001b[0m\u001b[0mnew_record\u001b[0m\u001b[0;34m)\u001b[0m\u001b[0;34m\u001b[0m\u001b[0;34m\u001b[0m\u001b[0m\n\u001b[0m",
      "\u001b[0;32m~/.local/lib/python3.7/site-packages/django/db/models/manager.py\u001b[0m in \u001b[0;36mmanager_method\u001b[0;34m(self, *args, **kwargs)\u001b[0m\n\u001b[1;32m     83\u001b[0m         \u001b[0;32mdef\u001b[0m \u001b[0mcreate_method\u001b[0m\u001b[0;34m(\u001b[0m\u001b[0mname\u001b[0m\u001b[0;34m,\u001b[0m \u001b[0mmethod\u001b[0m\u001b[0;34m)\u001b[0m\u001b[0;34m:\u001b[0m\u001b[0;34m\u001b[0m\u001b[0;34m\u001b[0m\u001b[0m\n\u001b[1;32m     84\u001b[0m             \u001b[0;32mdef\u001b[0m \u001b[0mmanager_method\u001b[0m\u001b[0;34m(\u001b[0m\u001b[0mself\u001b[0m\u001b[0;34m,\u001b[0m \u001b[0;34m*\u001b[0m\u001b[0margs\u001b[0m\u001b[0;34m,\u001b[0m \u001b[0;34m**\u001b[0m\u001b[0mkwargs\u001b[0m\u001b[0;34m)\u001b[0m\u001b[0;34m:\u001b[0m\u001b[0;34m\u001b[0m\u001b[0;34m\u001b[0m\u001b[0m\n\u001b[0;32m---> 85\u001b[0;31m                 \u001b[0;32mreturn\u001b[0m \u001b[0mgetattr\u001b[0m\u001b[0;34m(\u001b[0m\u001b[0mself\u001b[0m\u001b[0;34m.\u001b[0m\u001b[0mget_queryset\u001b[0m\u001b[0;34m(\u001b[0m\u001b[0;34m)\u001b[0m\u001b[0;34m,\u001b[0m \u001b[0mname\u001b[0m\u001b[0;34m)\u001b[0m\u001b[0;34m(\u001b[0m\u001b[0;34m*\u001b[0m\u001b[0margs\u001b[0m\u001b[0;34m,\u001b[0m \u001b[0;34m**\u001b[0m\u001b[0mkwargs\u001b[0m\u001b[0;34m)\u001b[0m\u001b[0;34m\u001b[0m\u001b[0;34m\u001b[0m\u001b[0m\n\u001b[0m\u001b[1;32m     86\u001b[0m             \u001b[0mmanager_method\u001b[0m\u001b[0;34m.\u001b[0m\u001b[0m__name__\u001b[0m \u001b[0;34m=\u001b[0m \u001b[0mmethod\u001b[0m\u001b[0;34m.\u001b[0m\u001b[0m__name__\u001b[0m\u001b[0;34m\u001b[0m\u001b[0;34m\u001b[0m\u001b[0m\n\u001b[1;32m     87\u001b[0m             \u001b[0mmanager_method\u001b[0m\u001b[0;34m.\u001b[0m\u001b[0m__doc__\u001b[0m \u001b[0;34m=\u001b[0m \u001b[0mmethod\u001b[0m\u001b[0;34m.\u001b[0m\u001b[0m__doc__\u001b[0m\u001b[0;34m\u001b[0m\u001b[0;34m\u001b[0m\u001b[0m\n",
      "\u001b[0;32m~/.local/lib/python3.7/site-packages/django/db/models/query.py\u001b[0m in \u001b[0;36mcreate\u001b[0;34m(self, **kwargs)\u001b[0m\n\u001b[1;32m    445\u001b[0m         \u001b[0mobj\u001b[0m \u001b[0;34m=\u001b[0m \u001b[0mself\u001b[0m\u001b[0;34m.\u001b[0m\u001b[0mmodel\u001b[0m\u001b[0;34m(\u001b[0m\u001b[0;34m**\u001b[0m\u001b[0mkwargs\u001b[0m\u001b[0;34m)\u001b[0m\u001b[0;34m\u001b[0m\u001b[0;34m\u001b[0m\u001b[0m\n\u001b[1;32m    446\u001b[0m         \u001b[0mself\u001b[0m\u001b[0;34m.\u001b[0m\u001b[0m_for_write\u001b[0m \u001b[0;34m=\u001b[0m \u001b[0;32mTrue\u001b[0m\u001b[0;34m\u001b[0m\u001b[0;34m\u001b[0m\u001b[0m\n\u001b[0;32m--> 447\u001b[0;31m         \u001b[0mobj\u001b[0m\u001b[0;34m.\u001b[0m\u001b[0msave\u001b[0m\u001b[0;34m(\u001b[0m\u001b[0mforce_insert\u001b[0m\u001b[0;34m=\u001b[0m\u001b[0;32mTrue\u001b[0m\u001b[0;34m,\u001b[0m \u001b[0musing\u001b[0m\u001b[0;34m=\u001b[0m\u001b[0mself\u001b[0m\u001b[0;34m.\u001b[0m\u001b[0mdb\u001b[0m\u001b[0;34m)\u001b[0m\u001b[0;34m\u001b[0m\u001b[0;34m\u001b[0m\u001b[0m\n\u001b[0m\u001b[1;32m    448\u001b[0m         \u001b[0;32mreturn\u001b[0m \u001b[0mobj\u001b[0m\u001b[0;34m\u001b[0m\u001b[0;34m\u001b[0m\u001b[0m\n\u001b[1;32m    449\u001b[0m \u001b[0;34m\u001b[0m\u001b[0m\n",
      "\u001b[0;32m/apps/prod/logos/src/django_verifications/django_verifications/models.py\u001b[0m in \u001b[0;36msave\u001b[0;34m(self, *args, **kwargs)\u001b[0m\n\u001b[1;32m     90\u001b[0m                         )\n\u001b[1;32m     91\u001b[0m \u001b[0;34m\u001b[0m\u001b[0m\n\u001b[0;32m---> 92\u001b[0;31m         \u001b[0msuper\u001b[0m\u001b[0;34m(\u001b[0m\u001b[0mVerifiedModel\u001b[0m\u001b[0;34m,\u001b[0m \u001b[0mself\u001b[0m\u001b[0;34m)\u001b[0m\u001b[0;34m.\u001b[0m\u001b[0msave\u001b[0m\u001b[0;34m(\u001b[0m\u001b[0;34m*\u001b[0m\u001b[0margs\u001b[0m\u001b[0;34m,\u001b[0m \u001b[0;34m**\u001b[0m\u001b[0mkwargs\u001b[0m\u001b[0;34m)\u001b[0m\u001b[0;34m\u001b[0m\u001b[0;34m\u001b[0m\u001b[0m\n\u001b[0m\u001b[1;32m     93\u001b[0m \u001b[0;34m\u001b[0m\u001b[0m\n\u001b[1;32m     94\u001b[0m     \u001b[0;32mdef\u001b[0m \u001b[0mget_verification_metadata\u001b[0m\u001b[0;34m(\u001b[0m\u001b[0mself\u001b[0m\u001b[0;34m)\u001b[0m\u001b[0;34m:\u001b[0m\u001b[0;34m\u001b[0m\u001b[0;34m\u001b[0m\u001b[0m\n",
      "\u001b[0;32m~/.local/lib/python3.7/site-packages/django/db/models/base.py\u001b[0m in \u001b[0;36msave\u001b[0;34m(self, force_insert, force_update, using, update_fields)\u001b[0m\n\u001b[1;32m    752\u001b[0m \u001b[0;34m\u001b[0m\u001b[0m\n\u001b[1;32m    753\u001b[0m         self.save_base(using=using, force_insert=force_insert,\n\u001b[0;32m--> 754\u001b[0;31m                        force_update=force_update, update_fields=update_fields)\n\u001b[0m\u001b[1;32m    755\u001b[0m     \u001b[0msave\u001b[0m\u001b[0;34m.\u001b[0m\u001b[0malters_data\u001b[0m \u001b[0;34m=\u001b[0m \u001b[0;32mTrue\u001b[0m\u001b[0;34m\u001b[0m\u001b[0;34m\u001b[0m\u001b[0m\n\u001b[1;32m    756\u001b[0m \u001b[0;34m\u001b[0m\u001b[0m\n",
      "\u001b[0;32m~/.local/lib/python3.7/site-packages/django/db/models/base.py\u001b[0m in \u001b[0;36msave_base\u001b[0;34m(self, raw, force_insert, force_update, using, update_fields)\u001b[0m\n\u001b[1;32m    790\u001b[0m             updated = self._save_table(\n\u001b[1;32m    791\u001b[0m                 \u001b[0mraw\u001b[0m\u001b[0;34m,\u001b[0m \u001b[0mcls\u001b[0m\u001b[0;34m,\u001b[0m \u001b[0mforce_insert\u001b[0m \u001b[0;32mor\u001b[0m \u001b[0mparent_inserted\u001b[0m\u001b[0;34m,\u001b[0m\u001b[0;34m\u001b[0m\u001b[0;34m\u001b[0m\u001b[0m\n\u001b[0;32m--> 792\u001b[0;31m                 \u001b[0mforce_update\u001b[0m\u001b[0;34m,\u001b[0m \u001b[0musing\u001b[0m\u001b[0;34m,\u001b[0m \u001b[0mupdate_fields\u001b[0m\u001b[0;34m,\u001b[0m\u001b[0;34m\u001b[0m\u001b[0;34m\u001b[0m\u001b[0m\n\u001b[0m\u001b[1;32m    793\u001b[0m             )\n\u001b[1;32m    794\u001b[0m         \u001b[0;31m# Store the database on which the object was saved\u001b[0m\u001b[0;34m\u001b[0m\u001b[0;34m\u001b[0m\u001b[0;34m\u001b[0m\u001b[0m\n",
      "\u001b[0;32m~/.local/lib/python3.7/site-packages/django/db/models/base.py\u001b[0m in \u001b[0;36m_save_table\u001b[0;34m(self, raw, cls, force_insert, force_update, using, update_fields)\u001b[0m\n\u001b[1;32m    893\u001b[0m \u001b[0;34m\u001b[0m\u001b[0m\n\u001b[1;32m    894\u001b[0m             \u001b[0mreturning_fields\u001b[0m \u001b[0;34m=\u001b[0m \u001b[0mmeta\u001b[0m\u001b[0;34m.\u001b[0m\u001b[0mdb_returning_fields\u001b[0m\u001b[0;34m\u001b[0m\u001b[0;34m\u001b[0m\u001b[0m\n\u001b[0;32m--> 895\u001b[0;31m             \u001b[0mresults\u001b[0m \u001b[0;34m=\u001b[0m \u001b[0mself\u001b[0m\u001b[0;34m.\u001b[0m\u001b[0m_do_insert\u001b[0m\u001b[0;34m(\u001b[0m\u001b[0mcls\u001b[0m\u001b[0;34m.\u001b[0m\u001b[0m_base_manager\u001b[0m\u001b[0;34m,\u001b[0m \u001b[0musing\u001b[0m\u001b[0;34m,\u001b[0m \u001b[0mfields\u001b[0m\u001b[0;34m,\u001b[0m \u001b[0mreturning_fields\u001b[0m\u001b[0;34m,\u001b[0m \u001b[0mraw\u001b[0m\u001b[0;34m)\u001b[0m\u001b[0;34m\u001b[0m\u001b[0;34m\u001b[0m\u001b[0m\n\u001b[0m\u001b[1;32m    896\u001b[0m             \u001b[0;32mif\u001b[0m \u001b[0mresults\u001b[0m\u001b[0;34m:\u001b[0m\u001b[0;34m\u001b[0m\u001b[0;34m\u001b[0m\u001b[0m\n\u001b[1;32m    897\u001b[0m                 \u001b[0;32mfor\u001b[0m \u001b[0mvalue\u001b[0m\u001b[0;34m,\u001b[0m \u001b[0mfield\u001b[0m \u001b[0;32min\u001b[0m \u001b[0mzip\u001b[0m\u001b[0;34m(\u001b[0m\u001b[0mresults\u001b[0m\u001b[0;34m[\u001b[0m\u001b[0;36m0\u001b[0m\u001b[0;34m]\u001b[0m\u001b[0;34m,\u001b[0m \u001b[0mreturning_fields\u001b[0m\u001b[0;34m)\u001b[0m\u001b[0;34m:\u001b[0m\u001b[0;34m\u001b[0m\u001b[0;34m\u001b[0m\u001b[0m\n",
      "\u001b[0;32m~/.local/lib/python3.7/site-packages/django/db/models/base.py\u001b[0m in \u001b[0;36m_do_insert\u001b[0;34m(self, manager, using, fields, returning_fields, raw)\u001b[0m\n\u001b[1;32m    933\u001b[0m         return manager._insert(\n\u001b[1;32m    934\u001b[0m             \u001b[0;34m[\u001b[0m\u001b[0mself\u001b[0m\u001b[0;34m]\u001b[0m\u001b[0;34m,\u001b[0m \u001b[0mfields\u001b[0m\u001b[0;34m=\u001b[0m\u001b[0mfields\u001b[0m\u001b[0;34m,\u001b[0m \u001b[0mreturning_fields\u001b[0m\u001b[0;34m=\u001b[0m\u001b[0mreturning_fields\u001b[0m\u001b[0;34m,\u001b[0m\u001b[0;34m\u001b[0m\u001b[0;34m\u001b[0m\u001b[0m\n\u001b[0;32m--> 935\u001b[0;31m             \u001b[0musing\u001b[0m\u001b[0;34m=\u001b[0m\u001b[0musing\u001b[0m\u001b[0;34m,\u001b[0m \u001b[0mraw\u001b[0m\u001b[0;34m=\u001b[0m\u001b[0mraw\u001b[0m\u001b[0;34m,\u001b[0m\u001b[0;34m\u001b[0m\u001b[0;34m\u001b[0m\u001b[0m\n\u001b[0m\u001b[1;32m    936\u001b[0m         )\n\u001b[1;32m    937\u001b[0m \u001b[0;34m\u001b[0m\u001b[0m\n",
      "\u001b[0;32m~/.local/lib/python3.7/site-packages/django/db/models/manager.py\u001b[0m in \u001b[0;36mmanager_method\u001b[0;34m(self, *args, **kwargs)\u001b[0m\n\u001b[1;32m     83\u001b[0m         \u001b[0;32mdef\u001b[0m \u001b[0mcreate_method\u001b[0m\u001b[0;34m(\u001b[0m\u001b[0mname\u001b[0m\u001b[0;34m,\u001b[0m \u001b[0mmethod\u001b[0m\u001b[0;34m)\u001b[0m\u001b[0;34m:\u001b[0m\u001b[0;34m\u001b[0m\u001b[0;34m\u001b[0m\u001b[0m\n\u001b[1;32m     84\u001b[0m             \u001b[0;32mdef\u001b[0m \u001b[0mmanager_method\u001b[0m\u001b[0;34m(\u001b[0m\u001b[0mself\u001b[0m\u001b[0;34m,\u001b[0m \u001b[0;34m*\u001b[0m\u001b[0margs\u001b[0m\u001b[0;34m,\u001b[0m \u001b[0;34m**\u001b[0m\u001b[0mkwargs\u001b[0m\u001b[0;34m)\u001b[0m\u001b[0;34m:\u001b[0m\u001b[0;34m\u001b[0m\u001b[0;34m\u001b[0m\u001b[0m\n\u001b[0;32m---> 85\u001b[0;31m                 \u001b[0;32mreturn\u001b[0m \u001b[0mgetattr\u001b[0m\u001b[0;34m(\u001b[0m\u001b[0mself\u001b[0m\u001b[0;34m.\u001b[0m\u001b[0mget_queryset\u001b[0m\u001b[0;34m(\u001b[0m\u001b[0;34m)\u001b[0m\u001b[0;34m,\u001b[0m \u001b[0mname\u001b[0m\u001b[0;34m)\u001b[0m\u001b[0;34m(\u001b[0m\u001b[0;34m*\u001b[0m\u001b[0margs\u001b[0m\u001b[0;34m,\u001b[0m \u001b[0;34m**\u001b[0m\u001b[0mkwargs\u001b[0m\u001b[0;34m)\u001b[0m\u001b[0;34m\u001b[0m\u001b[0;34m\u001b[0m\u001b[0m\n\u001b[0m\u001b[1;32m     86\u001b[0m             \u001b[0mmanager_method\u001b[0m\u001b[0;34m.\u001b[0m\u001b[0m__name__\u001b[0m \u001b[0;34m=\u001b[0m \u001b[0mmethod\u001b[0m\u001b[0;34m.\u001b[0m\u001b[0m__name__\u001b[0m\u001b[0;34m\u001b[0m\u001b[0;34m\u001b[0m\u001b[0m\n\u001b[1;32m     87\u001b[0m             \u001b[0mmanager_method\u001b[0m\u001b[0;34m.\u001b[0m\u001b[0m__doc__\u001b[0m \u001b[0;34m=\u001b[0m \u001b[0mmethod\u001b[0m\u001b[0;34m.\u001b[0m\u001b[0m__doc__\u001b[0m\u001b[0;34m\u001b[0m\u001b[0;34m\u001b[0m\u001b[0m\n",
      "\u001b[0;32m~/.local/lib/python3.7/site-packages/django/db/models/query.py\u001b[0m in \u001b[0;36m_insert\u001b[0;34m(self, objs, fields, returning_fields, raw, using, ignore_conflicts)\u001b[0m\n\u001b[1;32m   1252\u001b[0m         \u001b[0mquery\u001b[0m \u001b[0;34m=\u001b[0m \u001b[0msql\u001b[0m\u001b[0;34m.\u001b[0m\u001b[0mInsertQuery\u001b[0m\u001b[0;34m(\u001b[0m\u001b[0mself\u001b[0m\u001b[0;34m.\u001b[0m\u001b[0mmodel\u001b[0m\u001b[0;34m,\u001b[0m \u001b[0mignore_conflicts\u001b[0m\u001b[0;34m=\u001b[0m\u001b[0mignore_conflicts\u001b[0m\u001b[0;34m)\u001b[0m\u001b[0;34m\u001b[0m\u001b[0;34m\u001b[0m\u001b[0m\n\u001b[1;32m   1253\u001b[0m         \u001b[0mquery\u001b[0m\u001b[0;34m.\u001b[0m\u001b[0minsert_values\u001b[0m\u001b[0;34m(\u001b[0m\u001b[0mfields\u001b[0m\u001b[0;34m,\u001b[0m \u001b[0mobjs\u001b[0m\u001b[0;34m,\u001b[0m \u001b[0mraw\u001b[0m\u001b[0;34m=\u001b[0m\u001b[0mraw\u001b[0m\u001b[0;34m)\u001b[0m\u001b[0;34m\u001b[0m\u001b[0;34m\u001b[0m\u001b[0m\n\u001b[0;32m-> 1254\u001b[0;31m         \u001b[0;32mreturn\u001b[0m \u001b[0mquery\u001b[0m\u001b[0;34m.\u001b[0m\u001b[0mget_compiler\u001b[0m\u001b[0;34m(\u001b[0m\u001b[0musing\u001b[0m\u001b[0;34m=\u001b[0m\u001b[0musing\u001b[0m\u001b[0;34m)\u001b[0m\u001b[0;34m.\u001b[0m\u001b[0mexecute_sql\u001b[0m\u001b[0;34m(\u001b[0m\u001b[0mreturning_fields\u001b[0m\u001b[0;34m)\u001b[0m\u001b[0;34m\u001b[0m\u001b[0;34m\u001b[0m\u001b[0m\n\u001b[0m\u001b[1;32m   1255\u001b[0m     \u001b[0m_insert\u001b[0m\u001b[0;34m.\u001b[0m\u001b[0malters_data\u001b[0m \u001b[0;34m=\u001b[0m \u001b[0;32mTrue\u001b[0m\u001b[0;34m\u001b[0m\u001b[0;34m\u001b[0m\u001b[0m\n\u001b[1;32m   1256\u001b[0m     \u001b[0m_insert\u001b[0m\u001b[0;34m.\u001b[0m\u001b[0mqueryset_only\u001b[0m \u001b[0;34m=\u001b[0m \u001b[0;32mFalse\u001b[0m\u001b[0;34m\u001b[0m\u001b[0;34m\u001b[0m\u001b[0m\n",
      "\u001b[0;32m~/.local/lib/python3.7/site-packages/django/db/models/sql/compiler.py\u001b[0m in \u001b[0;36mexecute_sql\u001b[0;34m(self, returning_fields)\u001b[0m\n\u001b[1;32m   1395\u001b[0m         \u001b[0;32mwith\u001b[0m \u001b[0mself\u001b[0m\u001b[0;34m.\u001b[0m\u001b[0mconnection\u001b[0m\u001b[0;34m.\u001b[0m\u001b[0mcursor\u001b[0m\u001b[0;34m(\u001b[0m\u001b[0;34m)\u001b[0m \u001b[0;32mas\u001b[0m \u001b[0mcursor\u001b[0m\u001b[0;34m:\u001b[0m\u001b[0;34m\u001b[0m\u001b[0;34m\u001b[0m\u001b[0m\n\u001b[1;32m   1396\u001b[0m             \u001b[0;32mfor\u001b[0m \u001b[0msql\u001b[0m\u001b[0;34m,\u001b[0m \u001b[0mparams\u001b[0m \u001b[0;32min\u001b[0m \u001b[0mself\u001b[0m\u001b[0;34m.\u001b[0m\u001b[0mas_sql\u001b[0m\u001b[0;34m(\u001b[0m\u001b[0;34m)\u001b[0m\u001b[0;34m:\u001b[0m\u001b[0;34m\u001b[0m\u001b[0;34m\u001b[0m\u001b[0m\n\u001b[0;32m-> 1397\u001b[0;31m                 \u001b[0mcursor\u001b[0m\u001b[0;34m.\u001b[0m\u001b[0mexecute\u001b[0m\u001b[0;34m(\u001b[0m\u001b[0msql\u001b[0m\u001b[0;34m,\u001b[0m \u001b[0mparams\u001b[0m\u001b[0;34m)\u001b[0m\u001b[0;34m\u001b[0m\u001b[0;34m\u001b[0m\u001b[0m\n\u001b[0m\u001b[1;32m   1398\u001b[0m             \u001b[0;32mif\u001b[0m \u001b[0;32mnot\u001b[0m \u001b[0mself\u001b[0m\u001b[0;34m.\u001b[0m\u001b[0mreturning_fields\u001b[0m\u001b[0;34m:\u001b[0m\u001b[0;34m\u001b[0m\u001b[0;34m\u001b[0m\u001b[0m\n\u001b[1;32m   1399\u001b[0m                 \u001b[0;32mreturn\u001b[0m \u001b[0;34m[\u001b[0m\u001b[0;34m]\u001b[0m\u001b[0;34m\u001b[0m\u001b[0;34m\u001b[0m\u001b[0m\n",
      "\u001b[0;32m~/.local/lib/python3.7/site-packages/django/db/backends/utils.py\u001b[0m in \u001b[0;36mexecute\u001b[0;34m(self, sql, params)\u001b[0m\n\u001b[1;32m     96\u001b[0m     \u001b[0;32mdef\u001b[0m \u001b[0mexecute\u001b[0m\u001b[0;34m(\u001b[0m\u001b[0mself\u001b[0m\u001b[0;34m,\u001b[0m \u001b[0msql\u001b[0m\u001b[0;34m,\u001b[0m \u001b[0mparams\u001b[0m\u001b[0;34m=\u001b[0m\u001b[0;32mNone\u001b[0m\u001b[0;34m)\u001b[0m\u001b[0;34m:\u001b[0m\u001b[0;34m\u001b[0m\u001b[0;34m\u001b[0m\u001b[0m\n\u001b[1;32m     97\u001b[0m         \u001b[0;32mwith\u001b[0m \u001b[0mself\u001b[0m\u001b[0;34m.\u001b[0m\u001b[0mdebug_sql\u001b[0m\u001b[0;34m(\u001b[0m\u001b[0msql\u001b[0m\u001b[0;34m,\u001b[0m \u001b[0mparams\u001b[0m\u001b[0;34m,\u001b[0m \u001b[0muse_last_executed_query\u001b[0m\u001b[0;34m=\u001b[0m\u001b[0;32mTrue\u001b[0m\u001b[0;34m)\u001b[0m\u001b[0;34m:\u001b[0m\u001b[0;34m\u001b[0m\u001b[0;34m\u001b[0m\u001b[0m\n\u001b[0;32m---> 98\u001b[0;31m             \u001b[0;32mreturn\u001b[0m \u001b[0msuper\u001b[0m\u001b[0;34m(\u001b[0m\u001b[0;34m)\u001b[0m\u001b[0;34m.\u001b[0m\u001b[0mexecute\u001b[0m\u001b[0;34m(\u001b[0m\u001b[0msql\u001b[0m\u001b[0;34m,\u001b[0m \u001b[0mparams\u001b[0m\u001b[0;34m)\u001b[0m\u001b[0;34m\u001b[0m\u001b[0;34m\u001b[0m\u001b[0m\n\u001b[0m\u001b[1;32m     99\u001b[0m \u001b[0;34m\u001b[0m\u001b[0m\n\u001b[1;32m    100\u001b[0m     \u001b[0;32mdef\u001b[0m \u001b[0mexecutemany\u001b[0m\u001b[0;34m(\u001b[0m\u001b[0mself\u001b[0m\u001b[0;34m,\u001b[0m \u001b[0msql\u001b[0m\u001b[0;34m,\u001b[0m \u001b[0mparam_list\u001b[0m\u001b[0;34m)\u001b[0m\u001b[0;34m:\u001b[0m\u001b[0;34m\u001b[0m\u001b[0;34m\u001b[0m\u001b[0m\n",
      "\u001b[0;32m~/.local/lib/python3.7/site-packages/django/db/backends/utils.py\u001b[0m in \u001b[0;36mexecute\u001b[0;34m(self, sql, params)\u001b[0m\n\u001b[1;32m     64\u001b[0m \u001b[0;34m\u001b[0m\u001b[0m\n\u001b[1;32m     65\u001b[0m     \u001b[0;32mdef\u001b[0m \u001b[0mexecute\u001b[0m\u001b[0;34m(\u001b[0m\u001b[0mself\u001b[0m\u001b[0;34m,\u001b[0m \u001b[0msql\u001b[0m\u001b[0;34m,\u001b[0m \u001b[0mparams\u001b[0m\u001b[0;34m=\u001b[0m\u001b[0;32mNone\u001b[0m\u001b[0;34m)\u001b[0m\u001b[0;34m:\u001b[0m\u001b[0;34m\u001b[0m\u001b[0;34m\u001b[0m\u001b[0m\n\u001b[0;32m---> 66\u001b[0;31m         \u001b[0;32mreturn\u001b[0m \u001b[0mself\u001b[0m\u001b[0;34m.\u001b[0m\u001b[0m_execute_with_wrappers\u001b[0m\u001b[0;34m(\u001b[0m\u001b[0msql\u001b[0m\u001b[0;34m,\u001b[0m \u001b[0mparams\u001b[0m\u001b[0;34m,\u001b[0m \u001b[0mmany\u001b[0m\u001b[0;34m=\u001b[0m\u001b[0;32mFalse\u001b[0m\u001b[0;34m,\u001b[0m \u001b[0mexecutor\u001b[0m\u001b[0;34m=\u001b[0m\u001b[0mself\u001b[0m\u001b[0;34m.\u001b[0m\u001b[0m_execute\u001b[0m\u001b[0;34m)\u001b[0m\u001b[0;34m\u001b[0m\u001b[0;34m\u001b[0m\u001b[0m\n\u001b[0m\u001b[1;32m     67\u001b[0m \u001b[0;34m\u001b[0m\u001b[0m\n\u001b[1;32m     68\u001b[0m     \u001b[0;32mdef\u001b[0m \u001b[0mexecutemany\u001b[0m\u001b[0;34m(\u001b[0m\u001b[0mself\u001b[0m\u001b[0;34m,\u001b[0m \u001b[0msql\u001b[0m\u001b[0;34m,\u001b[0m \u001b[0mparam_list\u001b[0m\u001b[0;34m)\u001b[0m\u001b[0;34m:\u001b[0m\u001b[0;34m\u001b[0m\u001b[0;34m\u001b[0m\u001b[0m\n",
      "\u001b[0;32m~/.local/lib/python3.7/site-packages/django/db/backends/utils.py\u001b[0m in \u001b[0;36m_execute_with_wrappers\u001b[0;34m(self, sql, params, many, executor)\u001b[0m\n\u001b[1;32m     73\u001b[0m         \u001b[0;32mfor\u001b[0m \u001b[0mwrapper\u001b[0m \u001b[0;32min\u001b[0m \u001b[0mreversed\u001b[0m\u001b[0;34m(\u001b[0m\u001b[0mself\u001b[0m\u001b[0;34m.\u001b[0m\u001b[0mdb\u001b[0m\u001b[0;34m.\u001b[0m\u001b[0mexecute_wrappers\u001b[0m\u001b[0;34m)\u001b[0m\u001b[0;34m:\u001b[0m\u001b[0;34m\u001b[0m\u001b[0;34m\u001b[0m\u001b[0m\n\u001b[1;32m     74\u001b[0m             \u001b[0mexecutor\u001b[0m \u001b[0;34m=\u001b[0m \u001b[0mfunctools\u001b[0m\u001b[0;34m.\u001b[0m\u001b[0mpartial\u001b[0m\u001b[0;34m(\u001b[0m\u001b[0mwrapper\u001b[0m\u001b[0;34m,\u001b[0m \u001b[0mexecutor\u001b[0m\u001b[0;34m)\u001b[0m\u001b[0;34m\u001b[0m\u001b[0;34m\u001b[0m\u001b[0m\n\u001b[0;32m---> 75\u001b[0;31m         \u001b[0;32mreturn\u001b[0m \u001b[0mexecutor\u001b[0m\u001b[0;34m(\u001b[0m\u001b[0msql\u001b[0m\u001b[0;34m,\u001b[0m \u001b[0mparams\u001b[0m\u001b[0;34m,\u001b[0m \u001b[0mmany\u001b[0m\u001b[0;34m,\u001b[0m \u001b[0mcontext\u001b[0m\u001b[0;34m)\u001b[0m\u001b[0;34m\u001b[0m\u001b[0;34m\u001b[0m\u001b[0m\n\u001b[0m\u001b[1;32m     76\u001b[0m \u001b[0;34m\u001b[0m\u001b[0m\n\u001b[1;32m     77\u001b[0m     \u001b[0;32mdef\u001b[0m \u001b[0m_execute\u001b[0m\u001b[0;34m(\u001b[0m\u001b[0mself\u001b[0m\u001b[0;34m,\u001b[0m \u001b[0msql\u001b[0m\u001b[0;34m,\u001b[0m \u001b[0mparams\u001b[0m\u001b[0;34m,\u001b[0m \u001b[0;34m*\u001b[0m\u001b[0mignored_wrapper_args\u001b[0m\u001b[0;34m)\u001b[0m\u001b[0;34m:\u001b[0m\u001b[0;34m\u001b[0m\u001b[0;34m\u001b[0m\u001b[0m\n",
      "\u001b[0;32m~/.local/lib/python3.7/site-packages/django/db/backends/utils.py\u001b[0m in \u001b[0;36m_execute\u001b[0;34m(self, sql, params, *ignored_wrapper_args)\u001b[0m\n\u001b[1;32m     82\u001b[0m                 \u001b[0;32mreturn\u001b[0m \u001b[0mself\u001b[0m\u001b[0;34m.\u001b[0m\u001b[0mcursor\u001b[0m\u001b[0;34m.\u001b[0m\u001b[0mexecute\u001b[0m\u001b[0;34m(\u001b[0m\u001b[0msql\u001b[0m\u001b[0;34m)\u001b[0m\u001b[0;34m\u001b[0m\u001b[0;34m\u001b[0m\u001b[0m\n\u001b[1;32m     83\u001b[0m             \u001b[0;32melse\u001b[0m\u001b[0;34m:\u001b[0m\u001b[0;34m\u001b[0m\u001b[0;34m\u001b[0m\u001b[0m\n\u001b[0;32m---> 84\u001b[0;31m                 \u001b[0;32mreturn\u001b[0m \u001b[0mself\u001b[0m\u001b[0;34m.\u001b[0m\u001b[0mcursor\u001b[0m\u001b[0;34m.\u001b[0m\u001b[0mexecute\u001b[0m\u001b[0;34m(\u001b[0m\u001b[0msql\u001b[0m\u001b[0;34m,\u001b[0m \u001b[0mparams\u001b[0m\u001b[0;34m)\u001b[0m\u001b[0;34m\u001b[0m\u001b[0;34m\u001b[0m\u001b[0m\n\u001b[0m\u001b[1;32m     85\u001b[0m \u001b[0;34m\u001b[0m\u001b[0m\n\u001b[1;32m     86\u001b[0m     \u001b[0;32mdef\u001b[0m \u001b[0m_executemany\u001b[0m\u001b[0;34m(\u001b[0m\u001b[0mself\u001b[0m\u001b[0;34m,\u001b[0m \u001b[0msql\u001b[0m\u001b[0;34m,\u001b[0m \u001b[0mparam_list\u001b[0m\u001b[0;34m,\u001b[0m \u001b[0;34m*\u001b[0m\u001b[0mignored_wrapper_args\u001b[0m\u001b[0;34m)\u001b[0m\u001b[0;34m:\u001b[0m\u001b[0;34m\u001b[0m\u001b[0;34m\u001b[0m\u001b[0m\n",
      "\u001b[0;32m~/.local/lib/python3.7/site-packages/django/db/utils.py\u001b[0m in \u001b[0;36m__exit__\u001b[0;34m(self, exc_type, exc_value, traceback)\u001b[0m\n\u001b[1;32m     88\u001b[0m                 \u001b[0;32mif\u001b[0m \u001b[0mdj_exc_type\u001b[0m \u001b[0;32mnot\u001b[0m \u001b[0;32min\u001b[0m \u001b[0;34m(\u001b[0m\u001b[0mDataError\u001b[0m\u001b[0;34m,\u001b[0m \u001b[0mIntegrityError\u001b[0m\u001b[0;34m)\u001b[0m\u001b[0;34m:\u001b[0m\u001b[0;34m\u001b[0m\u001b[0;34m\u001b[0m\u001b[0m\n\u001b[1;32m     89\u001b[0m                     \u001b[0mself\u001b[0m\u001b[0;34m.\u001b[0m\u001b[0mwrapper\u001b[0m\u001b[0;34m.\u001b[0m\u001b[0merrors_occurred\u001b[0m \u001b[0;34m=\u001b[0m \u001b[0;32mTrue\u001b[0m\u001b[0;34m\u001b[0m\u001b[0;34m\u001b[0m\u001b[0m\n\u001b[0;32m---> 90\u001b[0;31m                 \u001b[0;32mraise\u001b[0m \u001b[0mdj_exc_value\u001b[0m\u001b[0;34m.\u001b[0m\u001b[0mwith_traceback\u001b[0m\u001b[0;34m(\u001b[0m\u001b[0mtraceback\u001b[0m\u001b[0;34m)\u001b[0m \u001b[0;32mfrom\u001b[0m \u001b[0mexc_value\u001b[0m\u001b[0;34m\u001b[0m\u001b[0;34m\u001b[0m\u001b[0m\n\u001b[0m\u001b[1;32m     91\u001b[0m \u001b[0;34m\u001b[0m\u001b[0m\n\u001b[1;32m     92\u001b[0m     \u001b[0;32mdef\u001b[0m \u001b[0m__call__\u001b[0m\u001b[0;34m(\u001b[0m\u001b[0mself\u001b[0m\u001b[0;34m,\u001b[0m \u001b[0mfunc\u001b[0m\u001b[0;34m)\u001b[0m\u001b[0;34m:\u001b[0m\u001b[0;34m\u001b[0m\u001b[0;34m\u001b[0m\u001b[0m\n",
      "\u001b[0;32m~/.local/lib/python3.7/site-packages/django/db/backends/utils.py\u001b[0m in \u001b[0;36m_execute\u001b[0;34m(self, sql, params, *ignored_wrapper_args)\u001b[0m\n\u001b[1;32m     82\u001b[0m                 \u001b[0;32mreturn\u001b[0m \u001b[0mself\u001b[0m\u001b[0;34m.\u001b[0m\u001b[0mcursor\u001b[0m\u001b[0;34m.\u001b[0m\u001b[0mexecute\u001b[0m\u001b[0;34m(\u001b[0m\u001b[0msql\u001b[0m\u001b[0;34m)\u001b[0m\u001b[0;34m\u001b[0m\u001b[0;34m\u001b[0m\u001b[0m\n\u001b[1;32m     83\u001b[0m             \u001b[0;32melse\u001b[0m\u001b[0;34m:\u001b[0m\u001b[0;34m\u001b[0m\u001b[0;34m\u001b[0m\u001b[0m\n\u001b[0;32m---> 84\u001b[0;31m                 \u001b[0;32mreturn\u001b[0m \u001b[0mself\u001b[0m\u001b[0;34m.\u001b[0m\u001b[0mcursor\u001b[0m\u001b[0;34m.\u001b[0m\u001b[0mexecute\u001b[0m\u001b[0;34m(\u001b[0m\u001b[0msql\u001b[0m\u001b[0;34m,\u001b[0m \u001b[0mparams\u001b[0m\u001b[0;34m)\u001b[0m\u001b[0;34m\u001b[0m\u001b[0;34m\u001b[0m\u001b[0m\n\u001b[0m\u001b[1;32m     85\u001b[0m \u001b[0;34m\u001b[0m\u001b[0m\n\u001b[1;32m     86\u001b[0m     \u001b[0;32mdef\u001b[0m \u001b[0m_executemany\u001b[0m\u001b[0;34m(\u001b[0m\u001b[0mself\u001b[0m\u001b[0;34m,\u001b[0m \u001b[0msql\u001b[0m\u001b[0;34m,\u001b[0m \u001b[0mparam_list\u001b[0m\u001b[0;34m,\u001b[0m \u001b[0;34m*\u001b[0m\u001b[0mignored_wrapper_args\u001b[0m\u001b[0;34m)\u001b[0m\u001b[0;34m:\u001b[0m\u001b[0;34m\u001b[0m\u001b[0;34m\u001b[0m\u001b[0m\n",
      "\u001b[0;31mIntegrityError\u001b[0m: duplicate key value violates unique constraint \"logos_politician_bioguide_id_317c4279_uniq\"\nDETAIL:  Key (bioguide_id)=(J99999) already exists.\n"
     ]
    }
   ],
   "source": [
    "Politician.objects.create(**new_record)"
   ]
  },
  {
   "cell_type": "markdown",
   "metadata": {},
   "source": [
    "So, traditionally, we'd write some code to catch the error, and if he already exists, we update the existing record instead"
   ]
  },
  {
   "cell_type": "code",
   "execution_count": 23,
   "metadata": {},
   "outputs": [],
   "source": [
    "from django.db import IntegrityError\n",
    "\n",
    "try: \n",
    "    Politician.objects.create(**new_record)\n",
    "except IntegrityError:\n",
    "    pol = Politician.objects.get(bioguide_id=new_record['bioguide_id'])\n",
    "    for fec_id in new_record[\"fec_ids\"]:\n",
    "        if fec_id not in pol.fec_ids: \n",
    "            pol.fec_ids.append(fec_id)\n",
    "    if not pol.last_name:\n",
    "        pol.last_name = new_record['last_name']\n",
    "    # ... and so on, and then we save the existing record:\n",
    "    # pol.save() "
   ]
  },
  {
   "cell_type": "markdown",
   "metadata": {},
   "source": [
    "We could even be fancier and skip that IntegrityError check"
   ]
  },
  {
   "cell_type": "code",
   "execution_count": 24,
   "metadata": {},
   "outputs": [],
   "source": [
    "pol, created = Politician.objects.get_or_create(bioguide_id=new_record['bioguide_id'])\n",
    "for fec_id in new_record[\"fec_ids\"]:\n",
    "    if fec_id not in pol.fec_ids: \n",
    "        pol.fec_ids.append(fec_id)\n",
    "if not pol.last_name:\n",
    "    pol.last_name = new_record['last_name']\n",
    "# ... and so on, and then we save the existing record:\n",
    "# pol.save() "
   ]
  },
  {
   "cell_type": "markdown",
   "metadata": {},
   "source": [
    "But this is a royal pain.  Often, when we're trying to harmonize data from multiple sources, we're A) working with overlapping but incomplete records and multiple potential IDs, and B) working with data that can be easily represented as JSON/dictionary records. So wouldn't it be nice if we could just query Django directly with those records, and have it search for existing records across multiple fields?"
   ]
  },
  {
   "cell_type": "code",
   "execution_count": 25,
   "metadata": {},
   "outputs": [
    {
     "data": {
      "text/plain": [
       "{'bioguide_id': 'J99999',\n",
       " 'fec_ids': ['P99999'],\n",
       " 'last_name': 'Johnson',\n",
       " 'nickname': 'The Rock',\n",
       " 'instagram_ids': ['1234567890']}"
      ]
     },
     "execution_count": 25,
     "metadata": {},
     "output_type": "execute_result"
    }
   ],
   "source": [
    "new_record"
   ]
  },
  {
   "cell_type": "code",
   "execution_count": 26,
   "metadata": {},
   "outputs": [],
   "source": [
    "pol = Politician.objects.get_if_exists(\n",
    "    {\"bioguide_id\": new_record[\"bioguide_id\"], \"fec_ids\": new_record['fec_ids']},\n",
    "    match_any=True, search_nulls=False, empty_lists_are_null=True, allow_list_overlaps=False\n",
    ")"
   ]
  },
  {
   "cell_type": "markdown",
   "metadata": {},
   "source": [
    "The `BasicExtendedModel` `.json` function can fetch a dictionary representation of a particular record (the same way `.values()` does for all of the objects in your query in vanilla Django)."
   ]
  },
  {
   "cell_type": "code",
   "execution_count": 27,
   "metadata": {},
   "outputs": [
    {
     "data": {
      "text/plain": [
       "{'id': 64716,\n",
       " 'first_name': 'Dwayne',\n",
       " 'last_name': 'Johnson',\n",
       " 'has_press_release_scraper': False,\n",
       " 'bioguide_id': 'J99999',\n",
       " 'fec_ids': [],\n",
       " 'facebook_ids': [],\n",
       " 'old_facebook_ids': [],\n",
       " 'twitter_ids': [],\n",
       " 'old_twitter_ids': [],\n",
       " 'instagram_ids': [],\n",
       " 'old_instagram_ids': [],\n",
       " 'capitol_words_speech_backfill': False}"
      ]
     },
     "execution_count": 27,
     "metadata": {},
     "output_type": "execute_result"
    }
   ],
   "source": [
    "pol.json(exclude_nulls=True)"
   ]
  },
  {
   "cell_type": "markdown",
   "metadata": {},
   "source": [
    "Sweet, we found a match.  Now, what if we could give Django some guidelines, pass it our identifiers AND our new data, and have it intelligently create or update records all at once?"
   ]
  },
  {
   "cell_type": "code",
   "execution_count": 28,
   "metadata": {},
   "outputs": [],
   "source": [
    "pol = Politician.objects.create_or_update(\n",
    "    {\"bioguide_id\": new_record[\"bioguide_id\"], \"fec_ids\": new_record[\"fec_ids\"]},\n",
    "    new_record,\n",
    "    match_any=True, search_nulls=False, empty_lists_are_null=True, allow_list_overlaps=True,\n",
    "    save_nulls=False, only_update_existing_nulls=False, return_object=True\n",
    ")"
   ]
  },
  {
   "cell_type": "code",
   "execution_count": 29,
   "metadata": {},
   "outputs": [
    {
     "data": {
      "text/plain": [
       "{'id': 64716,\n",
       " 'first_name': 'Dwayne',\n",
       " 'last_name': 'Johnson',\n",
       " 'nickname': 'The Rock',\n",
       " 'has_press_release_scraper': False,\n",
       " 'bioguide_id': 'J99999',\n",
       " 'fec_ids': ['P99999'],\n",
       " 'facebook_ids': [],\n",
       " 'old_facebook_ids': [],\n",
       " 'twitter_ids': [],\n",
       " 'old_twitter_ids': [],\n",
       " 'instagram_ids': ['1234567890'],\n",
       " 'old_instagram_ids': [],\n",
       " 'capitol_words_speech_backfill': False}"
      ]
     },
     "execution_count": 29,
     "metadata": {},
     "output_type": "execute_result"
    }
   ],
   "source": [
    "pol.json(exclude_nulls=True)"
   ]
  },
  {
   "cell_type": "markdown",
   "metadata": {},
   "source": [
    "Depending on the quality and completeness of our data source, we may have a preference for preserving any existing data, or alternatively overwriting it.  We can control this behavior with some of those keyword parameters - `save_nulls` (off by default) instructs django_pewtils to preserve non-null values that are null in our new data; `empty_lists_are_null` (on by default) determines whether empty lists should be treated like null values, and `only_update_existing_nulls` (off by default) is handy if you want to favor existing data and only want to fill in what's missing in any existing records.\n",
    "\n",
    "Now let's say we collect yet another new record.  This time we don't have a Bioguide ID, but we do have FEC IDs - in fact, this new data source has both Mr. Rock's presidential FEC ID (which we know about) as well as his Senate race FEC ID (which we don't).  Let's pass all of the unique identifiers we have and see what happens."
   ]
  },
  {
   "cell_type": "code",
   "execution_count": 30,
   "metadata": {},
   "outputs": [],
   "source": [
    "new_record = {\n",
    "    \"icpsr_id\": \"12345\",\n",
    "    \"fec_ids\": [\"S99999\", \"P99999\"],\n",
    "    \"first_name\": \"Dwayne\",\n",
    "    \"last_name\": \"Johnson\",\n",
    "    \"nickname\": None,\n",
    "}"
   ]
  },
  {
   "cell_type": "code",
   "execution_count": 31,
   "metadata": {},
   "outputs": [],
   "source": [
    "Politician.objects.get_if_exists(\n",
    "    {\"icpsr_id\": new_record[\"icpsr_id\"], \"fec_ids\": new_record[\"fec_ids\"]},\n",
    "    match_any=True, search_nulls=False, empty_lists_are_null=True, allow_list_overlaps=False\n",
    ")"
   ]
  },
  {
   "cell_type": "markdown",
   "metadata": {},
   "source": [
    "Why didn't we find anything?  Because we were looking for an exact match on the list of FEC IDs - by default, `get_if_exists` treats arrays just like any other value. But if we pass `allow_list_overlaps=True`, we can tell django_pewtils to not only search for existing records that overlap with our list, but also to update the existing record with the _union_ of the lists rather than overwrite what's already there. (Note: this only works with databases that support array fields, aka Postgres)"
   ]
  },
  {
   "cell_type": "code",
   "execution_count": 32,
   "metadata": {},
   "outputs": [
    {
     "data": {
      "text/plain": [
       "<Politician: Dwayne 'The Rock' Johnson>"
      ]
     },
     "execution_count": 32,
     "metadata": {},
     "output_type": "execute_result"
    }
   ],
   "source": [
    "Politician.objects.get_if_exists(\n",
    "    {\"icpsr_id\": new_record[\"icpsr_id\"], \"fec_ids\": new_record[\"fec_ids\"]},\n",
    "    match_any=True, search_nulls=False, empty_lists_are_null=True, allow_list_overlaps=True\n",
    ")"
   ]
  },
  {
   "cell_type": "code",
   "execution_count": 33,
   "metadata": {},
   "outputs": [],
   "source": [
    "mr_rock = Politician.objects.create_or_update(\n",
    "    {\"icpsr_id\": new_record[\"icpsr_id\"], \"fec_ids\": new_record[\"fec_ids\"]},\n",
    "    new_record,\n",
    "    match_any=True, search_nulls=False, empty_lists_are_null=True, allow_list_overlaps=True,\n",
    "    save_nulls=False, only_update_existing_nulls=False, return_object=True\n",
    ")"
   ]
  },
  {
   "cell_type": "code",
   "execution_count": 34,
   "metadata": {},
   "outputs": [
    {
     "data": {
      "text/plain": [
       "{'id': 64716,\n",
       " 'first_name': 'Dwayne',\n",
       " 'last_name': 'Johnson',\n",
       " 'nickname': 'The Rock',\n",
       " 'has_press_release_scraper': False,\n",
       " 'bioguide_id': 'J99999',\n",
       " 'fec_ids': ['P99999', 'S99999'],\n",
       " 'icpsr_id': '12345',\n",
       " 'facebook_ids': [],\n",
       " 'old_facebook_ids': [],\n",
       " 'twitter_ids': [],\n",
       " 'old_twitter_ids': [],\n",
       " 'instagram_ids': ['1234567890'],\n",
       " 'old_instagram_ids': [],\n",
       " 'capitol_words_speech_backfill': False}"
      ]
     },
     "execution_count": 34,
     "metadata": {},
     "output_type": "execute_result"
    }
   ],
   "source": [
    "mr_rock.json(exclude_nulls=True)"
   ]
  },
  {
   "cell_type": "markdown",
   "metadata": {},
   "source": [
    "Boom - it found our existing record with an overlapping FEC ID, updated it with the new ICPSR ID, update the FEC IDs to the union, and also avoided overwriting the existing nickname.\n",
    "\n",
    "Let's try saving one more record, but this time we don't have any unique identifiers that overlap with our existing data.  And there's a typo in the data.  Great.  This is going to cause some problems."
   ]
  },
  {
   "cell_type": "code",
   "execution_count": 35,
   "metadata": {},
   "outputs": [],
   "source": [
    "new_record = {\n",
    "    \"opensecrets_id\": \"12345\",\n",
    "    \"instagram_ids\": [\"0987654321\"],\n",
    "    \"nickname\": \"Teh Rock\",\n",
    "    \"last_name\": \"Johnson\"\n",
    "}"
   ]
  },
  {
   "cell_type": "code",
   "execution_count": 36,
   "metadata": {},
   "outputs": [],
   "source": [
    "also_mr_rock = Politician.objects.create_or_update(\n",
    "    {\"opensecrets_id\": new_record[\"opensecrets_id\"]},\n",
    "    new_record,\n",
    "    match_any=True, search_nulls=False, empty_lists_are_null=True, allow_list_overlaps=True,\n",
    "    save_nulls=False, only_update_existing_nulls=False, return_object=True\n",
    ")"
   ]
  },
  {
   "cell_type": "markdown",
   "metadata": {},
   "source": [
    "Now we've unwittingly created two different records for Mr. Rock, despite our best efforts to leverage all of the overlapping unique identifiers from our various data sources."
   ]
  },
  {
   "cell_type": "code",
   "execution_count": 37,
   "metadata": {},
   "outputs": [
    {
     "data": {
      "text/plain": [
       "{'id': 64716,\n",
       " 'first_name': 'Dwayne',\n",
       " 'last_name': 'Johnson',\n",
       " 'nickname': 'The Rock',\n",
       " 'has_press_release_scraper': False,\n",
       " 'bioguide_id': 'J99999',\n",
       " 'fec_ids': ['P99999', 'S99999'],\n",
       " 'icpsr_id': '12345',\n",
       " 'facebook_ids': [],\n",
       " 'old_facebook_ids': [],\n",
       " 'twitter_ids': [],\n",
       " 'old_twitter_ids': [],\n",
       " 'instagram_ids': ['1234567890'],\n",
       " 'old_instagram_ids': [],\n",
       " 'capitol_words_speech_backfill': False}"
      ]
     },
     "execution_count": 37,
     "metadata": {},
     "output_type": "execute_result"
    }
   ],
   "source": [
    "mr_rock.json(exclude_nulls=True)"
   ]
  },
  {
   "cell_type": "code",
   "execution_count": 38,
   "metadata": {},
   "outputs": [
    {
     "data": {
      "text/plain": [
       "{'id': 64719,\n",
       " 'last_name': 'Johnson',\n",
       " 'nickname': 'Teh Rock',\n",
       " 'has_press_release_scraper': False,\n",
       " 'fec_ids': [],\n",
       " 'opensecrets_id': '12345',\n",
       " 'facebook_ids': [],\n",
       " 'old_facebook_ids': [],\n",
       " 'twitter_ids': [],\n",
       " 'old_twitter_ids': [],\n",
       " 'instagram_ids': ['0987654321'],\n",
       " 'old_instagram_ids': [],\n",
       " 'capitol_words_speech_backfill': False}"
      ]
     },
     "execution_count": 38,
     "metadata": {},
     "output_type": "execute_result"
    }
   ],
   "source": [
    "also_mr_rock.json(exclude_nulls=True)"
   ]
  },
  {
   "cell_type": "markdown",
   "metadata": {},
   "source": [
    "What can we do about this?  We know about each copy right now - so in this case, we could manually write some code to resolve the two records and delete one of them - but in many cases, we aren't even going to be _aware_ that a duplicate got created.  So our first challenge is: how do we check a massive database for possible duplicates, if we've already checked all of the obvious unique indicators?  And our second challenge is: if we run into one of these duplicates, how do we resolve them without having to do it manually every single time?\n",
    "\n",
    "So let's start with our original Mr. Rock, and see if we can find his clone.  In this case, the best shot we have at doing this is to look for other Politician records with similar names.  We have a few different fields that might be useful - first name, last name, and nickname.  Fortunately, Django Pewtils' `BasicExtendedModel` and `BasicExtendedManager` offer a variety of text similarity search functions."
   ]
  },
  {
   "cell_type": "code",
   "execution_count": 39,
   "metadata": {},
   "outputs": [
    {
     "data": {
      "text/plain": [
       "<Politician: Dwayne 'The Rock' Johnson>"
      ]
     },
     "execution_count": 39,
     "metadata": {},
     "output_type": "execute_result"
    }
   ],
   "source": [
    "mr_rock"
   ]
  },
  {
   "cell_type": "code",
   "execution_count": 40,
   "metadata": {},
   "outputs": [
    {
     "data": {
      "text/plain": [
       "[{'pk': 64719,\n",
       "  'first_name': '',\n",
       "  'nickname': 'Teh Rock',\n",
       "  'last_name': 'Johnson',\n",
       "  'fuzzy_ratio': 80.0},\n",
       " {'pk': 55405,\n",
       "  'first_name': 'Dan',\n",
       "  'nickname': '',\n",
       "  'last_name': 'Johnson',\n",
       "  'fuzzy_ratio': 68.57142857142857},\n",
       " {'pk': 54070,\n",
       "  'first_name': 'Daniel',\n",
       "  'nickname': '',\n",
       "  'last_name': 'Johnson',\n",
       "  'fuzzy_ratio': 68.42105263157895}]"
      ]
     },
     "execution_count": 40,
     "metadata": {},
     "output_type": "execute_result"
    }
   ],
   "source": [
    "mr_rock.similar_by_fuzzy_ratios(['first_name', 'nickname', 'last_name'], min_ratio=.9)[:3]"
   ]
  },
  {
   "cell_type": "code",
   "execution_count": 41,
   "metadata": {},
   "outputs": [
    {
     "data": {
      "text/plain": [
       "<PoliticianManager [{'difference': 0.470588235294118, 'pk': 64719, 'first_name': '', 'nickname': 'Teh Rock', 'last_name': 'Johnson'}]>"
      ]
     },
     "execution_count": 41,
     "metadata": {},
     "output_type": "execute_result"
    }
   ],
   "source": [
    "mr_rock.similar_by_levenshtein_differences(['first_name', 'nickname', 'last_name'], max_difference=.5)[:3]"
   ]
  },
  {
   "cell_type": "code",
   "execution_count": 42,
   "metadata": {},
   "outputs": [
    {
     "data": {
      "text/plain": [
       "[{'pk': 64719,\n",
       "  'first_name': '',\n",
       "  'nickname': 'Teh Rock',\n",
       "  'last_name': 'Johnson',\n",
       "  'similarity': 0.5351794382465026}]"
      ]
     },
     "execution_count": 42,
     "metadata": {},
     "output_type": "execute_result"
    }
   ],
   "source": [
    "mr_rock.similar_by_tfidf_similarity(['first_name', 'nickname', 'last_name'], min_similarity=.5)[:3]"
   ]
  },
  {
   "cell_type": "code",
   "execution_count": 43,
   "metadata": {},
   "outputs": [
    {
     "data": {
      "text/plain": [
       "<PoliticianManager [{'similarity': 0.518519, 'pk': 64719, 'first_name': '', 'nickname': 'Teh Rock', 'last_name': 'Johnson'}]>"
      ]
     },
     "execution_count": 43,
     "metadata": {},
     "output_type": "execute_result"
    }
   ],
   "source": [
    "mr_rock.similar_by_trigram_similarity(['first_name', 'nickname', 'last_name'], min_similarity=.5)[:3]"
   ]
  },
  {
   "cell_type": "markdown",
   "metadata": {},
   "source": [
    "Okay, so now we've found our duplicate.  Now what?  Well, Django Pewtils' `consolidate_objects` function has the ability to collapse duplicate records.  Not only will it let us easily merge our records together the way we'd like, it'll also resolve database relations intelligently.  Values that are null in one record but filled in the other will be filled in, many-to-many relationships and arrays will get merged into their unions, and if our records have any unique one-to-one relationships (e.g. each record has a unique \"WikipediaPage\" assigned to it, and those are duplicates as well), we can instruct `consolidate_objects` to cascade to those records and consolidate them as well.  All we need to do is specify which record we want to keep: the \"source\" is our duplicate, and we'll merge it into the \"target\", which is the record that we'll be keeping."
   ]
  },
  {
   "cell_type": "code",
   "execution_count": 44,
   "metadata": {},
   "outputs": [],
   "source": [
    "from django_pewtils import consolidate_objects\n",
    "\n",
    "mr_rock = consolidate_objects(\n",
    "    source=also_mr_rock,\n",
    "    target=mr_rock,\n",
    "    overwrite=False,  # False means that we'll prefer preserving the target's existing values if we encounter conflicts\n",
    "    consolidate_related_uniques=False  # Unless we set this to True, the function will raise an error if there are conflicting relationships that can't be merged\n",
    ")"
   ]
  },
  {
   "cell_type": "code",
   "execution_count": 45,
   "metadata": {},
   "outputs": [
    {
     "data": {
      "text/plain": [
       "{'id': 64716,\n",
       " 'first_name': 'Dwayne',\n",
       " 'last_name': 'Johnson',\n",
       " 'nickname': 'The Rock',\n",
       " 'has_press_release_scraper': False,\n",
       " 'bioguide_id': 'J99999',\n",
       " 'fec_ids': ['S99999', 'P99999'],\n",
       " 'opensecrets_id': '12345',\n",
       " 'icpsr_id': '12345',\n",
       " 'facebook_ids': [],\n",
       " 'old_facebook_ids': [],\n",
       " 'twitter_ids': [],\n",
       " 'old_twitter_ids': [],\n",
       " 'instagram_ids': ['0987654321', '1234567890'],\n",
       " 'old_instagram_ids': [],\n",
       " 'capitol_words_speech_backfill': False}"
      ]
     },
     "execution_count": 45,
     "metadata": {},
     "output_type": "execute_result"
    }
   ],
   "source": [
    "mr_rock.json(exclude_nulls=True)"
   ]
  },
  {
   "cell_type": "markdown",
   "metadata": {},
   "source": [
    "You know, it would have been nice to avoid all of this in the first place.  What if we could have written some additional checks when we first loaded in the duplicate Rock record, to search for existing politicians with similar names?  Our duplicate record had values for `nickname` and `last_name`, so what if we had scanned the database for matches using those?"
   ]
  },
  {
   "cell_type": "code",
   "execution_count": 46,
   "metadata": {},
   "outputs": [],
   "source": [
    "search_text = \"Teh Rock Johnson\"  # What we had in our duplicate record"
   ]
  },
  {
   "cell_type": "code",
   "execution_count": 47,
   "metadata": {},
   "outputs": [
    {
     "data": {
      "text/plain": [
       "[{'pk': 64716,\n",
       "  'nickname': 'The Rock',\n",
       "  'last_name': 'Johnson',\n",
       "  'fuzzy_ratio': 93.75},\n",
       " {'pk': 55400,\n",
       "  'nickname': '',\n",
       "  'last_name': 'Johnson',\n",
       "  'fuzzy_ratio': 66.66666666666666},\n",
       " {'pk': 52587,\n",
       "  'nickname': '',\n",
       "  'last_name': 'Johnson',\n",
       "  'fuzzy_ratio': 66.66666666666666}]"
      ]
     },
     "execution_count": 47,
     "metadata": {},
     "output_type": "execute_result"
    }
   ],
   "source": [
    "Politician.objects.fuzzy_ratios(['nickname', 'last_name'], search_text)[:3]"
   ]
  },
  {
   "cell_type": "code",
   "execution_count": 48,
   "metadata": {},
   "outputs": [
    {
     "data": {
      "text/plain": [
       "(<Politician: Dwayne 'The Rock' Johnson>, 93.75)"
      ]
     },
     "execution_count": 48,
     "metadata": {},
     "output_type": "execute_result"
    }
   ],
   "source": [
    "Politician.objects.fuzzy_ratio_best_match(['nickname', 'last_name'], search_text)"
   ]
  },
  {
   "cell_type": "code",
   "execution_count": 49,
   "metadata": {},
   "outputs": [
    {
     "data": {
      "text/plain": [
       "<PoliticianManager [{'difference': 0.125, 'pk': 64716, 'nickname': 'The Rock', 'last_name': 'Johnson'}, {'difference': 0.533333333333333, 'pk': 48661, 'nickname': '', 'last_name': 'Mcneal Johnson'}, {'difference': 0.533333333333333, 'pk': 59287, 'nickname': '', 'last_name': 'Roldan-Johnson'}]>"
      ]
     },
     "execution_count": 49,
     "metadata": {},
     "output_type": "execute_result"
    }
   ],
   "source": [
    "Politician.objects.levenshtein_differences(['nickname', 'last_name'], search_text)[:3]"
   ]
  },
  {
   "cell_type": "code",
   "execution_count": 50,
   "metadata": {},
   "outputs": [
    {
     "data": {
      "text/plain": [
       "(<Politician: Dwayne 'The Rock' Johnson>, 0.125)"
      ]
     },
     "execution_count": 50,
     "metadata": {},
     "output_type": "execute_result"
    }
   ],
   "source": [
    "Politician.objects.levenshtein_difference_best_match(['nickname', 'last_name'], search_text)"
   ]
  },
  {
   "cell_type": "code",
   "execution_count": 51,
   "metadata": {},
   "outputs": [
    {
     "data": {
      "text/plain": [
       "[{'pk': 64716,\n",
       "  'nickname': 'The Rock',\n",
       "  'last_name': 'Johnson',\n",
       "  'similarity': 0.8116603660917949},\n",
       " {'pk': 55651,\n",
       "  'nickname': '',\n",
       "  'last_name': 'Johnson',\n",
       "  'similarity': 0.5205634156460611},\n",
       " {'pk': 49912,\n",
       "  'nickname': '',\n",
       "  'last_name': 'Johnson',\n",
       "  'similarity': 0.5205634156460611}]"
      ]
     },
     "execution_count": 51,
     "metadata": {},
     "output_type": "execute_result"
    }
   ],
   "source": [
    "Politician.objects.tfidf_similarities(['nickname', 'last_name'], search_text)[:3]"
   ]
  },
  {
   "cell_type": "code",
   "execution_count": 52,
   "metadata": {},
   "outputs": [
    {
     "data": {
      "text/plain": [
       "(<Politician: Dwayne 'The Rock' Johnson>, 0.8116603660917949)"
      ]
     },
     "execution_count": 52,
     "metadata": {},
     "output_type": "execute_result"
    }
   ],
   "source": [
    "Politician.objects.tfidf_similarity_best_match(['nickname', 'last_name'], search_text)"
   ]
  },
  {
   "cell_type": "code",
   "execution_count": 53,
   "metadata": {},
   "outputs": [
    {
     "data": {
      "text/plain": [
       "<PoliticianManager [{'similarity': 0.7, 'pk': 64716, 'nickname': 'The Rock', 'last_name': 'Johnson'}, {'similarity': 0.470588, 'pk': 55400, 'nickname': '', 'last_name': 'Johnson'}, {'similarity': 0.470588, 'pk': 52587, 'nickname': '', 'last_name': 'Johnson'}]>"
      ]
     },
     "execution_count": 53,
     "metadata": {},
     "output_type": "execute_result"
    }
   ],
   "source": [
    "Politician.objects.trigram_similarities(['nickname', 'last_name'], search_text)[:3]"
   ]
  },
  {
   "cell_type": "code",
   "execution_count": 54,
   "metadata": {},
   "outputs": [
    {
     "data": {
      "text/plain": [
       "(<Politician: Dwayne 'The Rock' Johnson>, 0.7)"
      ]
     },
     "execution_count": 54,
     "metadata": {},
     "output_type": "execute_result"
    }
   ],
   "source": [
    "Politician.objects.trigram_similarity_best_match(['nickname', 'last_name'], search_text)"
   ]
  },
  {
   "cell_type": "markdown",
   "metadata": {},
   "source": [
    "Some of these searches can take quite a while to run and/or will eat up a lot of memory when you've got a large table.  Postgres also has a built-in search functionality that can more efficiently put the burden on your database."
   ]
  },
  {
   "cell_type": "code",
   "execution_count": 55,
   "metadata": {},
   "outputs": [
    {
     "data": {
      "text/plain": [
       "<PoliticianManager [<Politician: Dwayne 'The Rock' Johnson>, <Politician: William C Kortz II>, <Politician: Robert Michael Clark>, <Politician: Abel Maldonado>, <Politician: Doyel Shamley>, <Politician: Jamie Moore>, <Politician: James A Barnett>, <Politician: Thomas Catalano>, <Politician: Abel Gebre Laeke>, <Politician: Andrew Michael Decker>, <Politician: L. Mack Van Allen>, <Politician: Henry W Meers Jr>, <Politician: Darrel Ervin Miller>, <Politician: Robert W. Tucker>, <Politician: Oreta Tufaga-Mapu Crichton>, <Politician: Phat Nguyen>, <Politician: Justin Sung-Sup Kim>, <Politician: Lei Sharsh-Davis>, <Politician: Alan J.K. Yim>, <Politician: Shirlene D. (Shirl) Ostrov>, '...(remaining elements truncated)...']>"
      ]
     },
     "execution_count": 55,
     "metadata": {},
     "output_type": "execute_result"
    }
   ],
   "source": [
    "Politician.objects.postgres_search(['nickname', 'last_name'], search_text)"
   ]
  },
  {
   "cell_type": "markdown",
   "metadata": {},
   "source": [
    "Equivalent functions also exist on `BasicExtendedModel` so you can invoke them for specific records, too."
   ]
  },
  {
   "cell_type": "code",
   "execution_count": 56,
   "metadata": {},
   "outputs": [
    {
     "data": {
      "text/plain": [
       "0.7"
      ]
     },
     "execution_count": 56,
     "metadata": {},
     "output_type": "execute_result"
    }
   ],
   "source": [
    "mr_rock.trigram_similarity(['nickname', 'last_name'], search_text)"
   ]
  },
  {
   "cell_type": "code",
   "execution_count": 57,
   "metadata": {},
   "outputs": [
    {
     "data": {
      "text/plain": [
       "<PoliticianManager [{'similarity': 0.470588, 'pk': 52587, 'nickname': '', 'last_name': 'Johnson'}, {'similarity': 0.470588, 'pk': 45952, 'nickname': '', 'last_name': 'Johnson'}, {'similarity': 0.470588, 'pk': 46918, 'nickname': '', 'last_name': 'Johnson'}, {'similarity': 0.470588, 'pk': 47003, 'nickname': '', 'last_name': 'Johnson'}, {'similarity': 0.470588, 'pk': 48651, 'nickname': '', 'last_name': 'Johnson'}, {'similarity': 0.470588, 'pk': 49075, 'nickname': '', 'last_name': 'Johnson'}, {'similarity': 0.470588, 'pk': 63555, 'nickname': '', 'last_name': 'Johnson'}, {'similarity': 0.470588, 'pk': 49386, 'nickname': '', 'last_name': 'Johnson'}, {'similarity': 0.470588, 'pk': 49618, 'nickname': '', 'last_name': 'Johnson'}, {'similarity': 0.470588, 'pk': 49836, 'nickname': '', 'last_name': 'Johnson'}, {'similarity': 0.470588, 'pk': 49912, 'nickname': '', 'last_name': 'Johnson'}, {'similarity': 0.470588, 'pk': 50417, 'nickname': '', 'last_name': 'Johnson'}, {'similarity': 0.470588, 'pk': 53745, 'nickname': '', 'last_name': 'Johnson'}, {'similarity': 0.470588, 'pk': 50703, 'nickname': '', 'last_name': 'Johnson'}, {'similarity': 0.470588, 'pk': 53739, 'nickname': '', 'last_name': 'Johnson'}, {'similarity': 0.470588, 'pk': 51020, 'nickname': '', 'last_name': 'Johnson'}, {'similarity': 0.470588, 'pk': 51025, 'nickname': '', 'last_name': 'Johnson'}, {'similarity': 0.470588, 'pk': 51223, 'nickname': '', 'last_name': 'Johnson'}, {'similarity': 0.470588, 'pk': 51250, 'nickname': '', 'last_name': 'Johnson'}, {'similarity': 0.470588, 'pk': 51339, 'nickname': '', 'last_name': 'Johnson'}, '...(remaining elements truncated)...']>"
      ]
     },
     "execution_count": 57,
     "metadata": {},
     "output_type": "execute_result"
    }
   ],
   "source": [
    "mr_rock.similar_by_trigram_similarity(['nickname', 'last_name'], min_similarity=.4)"
   ]
  },
  {
   "cell_type": "markdown",
   "metadata": {},
   "source": [
    "Okay, goodbye Mr. Rock."
   ]
  },
  {
   "cell_type": "code",
   "execution_count": 58,
   "metadata": {},
   "outputs": [
    {
     "data": {
      "text/plain": [
       "(1, {'logos.Politician': 1})"
      ]
     },
     "execution_count": 58,
     "metadata": {},
     "output_type": "execute_result"
    }
   ],
   "source": [
    "mr_rock.delete()"
   ]
  },
  {
   "cell_type": "markdown",
   "metadata": {},
   "source": [
    "Django Pewtils also has a variety of functions for inspecting records in your database.  Let's take a look at someone a bit more established than Mr. Rock."
   ]
  },
  {
   "cell_type": "code",
   "execution_count": 59,
   "metadata": {},
   "outputs": [],
   "source": [
    "bernie = Politician.objects.get(bioguide_id=\"S000033\")"
   ]
  },
  {
   "cell_type": "markdown",
   "metadata": {},
   "source": [
    "Let's see what we've got on Bernie."
   ]
  },
  {
   "cell_type": "code",
   "execution_count": 60,
   "metadata": {},
   "outputs": [
    {
     "data": {
      "text/plain": [
       "{'personal_metrics': <QueryModelManager [<PoliticianPersonalMetric: Bernard 'Bernie' Sanders, 2016, dw_nominate1: -0.526>, <PoliticianPersonalMetric: Bernard 'Bernie' Sanders, 2015, comfortable_with_samesex_marriage: 2.0>, <PoliticianPersonalMetric: Bernard 'Bernie' Sanders, 2015, privatize_social_security: -2.0>, <PoliticianPersonalMetric: Bernard 'Bernie' Sanders, 2019, dw_nominate1: -0.526>, <PoliticianPersonalMetric: Bernard 'Bernie' Sanders, 2019, dw_nominate2: -0.371>, <PoliticianPersonalMetric: Bernard 'Bernie' Sanders, 2020, dw_nominate1: -0.526>, <PoliticianPersonalMetric: Bernard 'Bernie' Sanders, 2020, dw_nominate2: -0.371>, <PoliticianPersonalMetric: Bernard 'Bernie' Sanders, 2009, dw_nominate2: -0.296999990940094>, <PoliticianPersonalMetric: Bernard 'Bernie' Sanders, 2010, dw_nominate1: -0.50900000333786>, <PoliticianPersonalMetric: Bernard 'Bernie' Sanders, 2010, dw_nominate2: -0.296999990940094>, <PoliticianPersonalMetric: Bernard 'Bernie' Sanders, 2011, dw_nominate2: -0.296999990940094>, <PoliticianPersonalMetric: Bernard 'Bernie' Sanders, 2012, dw_nominate1: -0.50900000333786>, <PoliticianPersonalMetric: Bernard 'Bernie' Sanders, 2012, dw_nominate2: -0.296999990940094>, <PoliticianPersonalMetric: Bernard 'Bernie' Sanders, 2014, net_worth: 160000.0>, <PoliticianPersonalMetric: Bernard 'Bernie' Sanders, 2014, assets: 190000.0>, <PoliticianPersonalMetric: Bernard 'Bernie' Sanders, 2014, liabilities: 30000.0>, <PoliticianPersonalMetric: Bernard 'Bernie' Sanders, 2015, dw_nominate1: -0.526>, <PoliticianPersonalMetric: Bernard 'Bernie' Sanders, 2015, dw_nominate2: -0.371>, <PoliticianPersonalMetric: Bernard 'Bernie' Sanders, 2016, dw_nominate2: -0.371>, <PoliticianPersonalMetric: Bernard 'Bernie' Sanders, 2017, dw_nominate1: -0.526>, '...(remaining elements truncated)...']>,\n",
       " 'campaigns': <CampaignManager [<Campaign: Bernard 'Bernie' Sanders, campaign for 2020 race for President (winner None)>, <Campaign: Bernard 'Bernie' Sanders, campaign for 2018 race for Senator of Vermont, U.S. Senate (Class 1) (winner Bernard 'Bernie' Sanders)>, <Campaign: Bernard 'Bernie' Sanders, campaign for 2016 race for Senator of Vermont, U.S. Senate (Class 3) (winner Patrick Joseph Leahy)>, <Campaign: Bernard 'Bernie' Sanders, campaign for 2016 race for President (winner None)>, <Campaign: Bernard 'Bernie' Sanders, campaign for 2012 race for Senator of Vermont, U.S. Senate (Class 1) (winner Bernard 'Bernie' Sanders)>, <Campaign: Bernard 'Bernie' Sanders, campaign for 2006 race for Senator of Vermont, U.S. Senate (Class 1) (winner Bernard 'Bernie' Sanders)>, <Campaign: Bernard 'Bernie' Sanders, campaign for 2004 race for Representative of Vermont, District At-Large (historical), U.S. House of Representatives (winner Bernard 'Bernie' Sanders)>]>,\n",
       " 'staffers': <QueryModelManager []>,\n",
       " 'relevant_news_articles': <QueryModelManager [<NewsArticle: Gates of Vienna, 2015-05-21 00:00:00: Gates of Vienna News Feed 5/20/2015>, <NewsArticle: Gates of Vienna, 2015-05-02 00:00:00: Gates of Vienna News Feed 5/1/2015>, <NewsArticle: Gates of Vienna, 2015-05-22 00:00:00: Gates of Vienna News Feed 5/21/2015>, <NewsArticle: Gates of Vienna, 2015-05-04 00:00:00: Gates of Vienna News Feed 5/3/2015>, <NewsArticle: IHS Global Insight, 2015-05-21 00:00:00: Advocacy groups challenge patents for Gilead's HCV drug in Argentina, Brazil, China, Russia, and Ukraine>, <NewsArticle: Newstex Blogs\n",
       " SaintPetersBlog, 2015-05-27 00:00:00: Sunburn - The morning read of what's hot in Florida politics - May 27>, <NewsArticle: International Business Times News, 2015-05-19 00:00:00: Why Do Drugs Cost So Much?>, <NewsArticle: Betsy's Page, 2015-05-12 00:00:00: Cruising the Web>, <NewsArticle: DownWithTyranny, 2015-05-20 00:00:00: Democratic Congressional Candidate Jason Ritchie Makes The Case For Opposing TPP>, <NewsArticle: The Daily Dot, 2015-05-17 00:00:00: Du Vote, the tech that could make online voting safe>, <NewsArticle: Washington Post Blogs, 2015-05-19 00:00:00: Minorities and poor college students are shouldering the most student debt>, <NewsArticle: Atlantic Online, 2015-05-04 00:00:00: The Audacity of Ben Carson and Carly Fiorina>, <NewsArticle: Dissident Voice, 2015-05-13 00:00:00: Middle Class? What Middle Class?>, <NewsArticle: Washington Post Blogs, 2015-05-03 00:00:00: With little choice, O'Malley defends Baltimore tenure;  The former mayor plans to announce presidential campaign there despite critique of zero-tolerance policing.>, <NewsArticle: Washingtonpost.com, 2015-05-04 00:00:00: With little choice and under scrutiny, O'Malley embraces tenure as mayor>, <NewsArticle: Washington Post Blogs, 2015-05-11 00:00:00: Obama has harsh words for Warren on free trade>, <NewsArticle: Phil's Stock World, 2015-05-07 00:00:00: News You Can Use From Phil's Stock World>, <NewsArticle: Washington Post BlogsThe Plum Line, 2015-05-28 00:00:00: Morning Plum: Jeb Bush rips Republicans for 'bending with the wind' on immigration;  But Bush has not been as courageous on the issue as he suggests.>, <NewsArticle: ColoradoPols.com, 2015-05-05 00:00:00: Get More Smarter on Tuesday (May 5)>, <NewsArticle: AMERICAblog, 2015-05-18 00:00:00: The Blue Wall exists for a reason: The GOP built it>, '...(remaining elements truncated)...']>,\n",
       " 'press_releases': <PressReleaseManager [<PressRelease: Bernard 'Bernie' Sanders, 2015-04-14 00:00:00: HHS to Probe Skyrocketing Generic Drug Prices>, <PressRelease: Bernard 'Bernie' Sanders, 2013-09-02 00:00:00: Vermont's 'age wave' brings jobs>, <PressRelease: Bernard 'Bernie' Sanders, 2013-07-26 00:00:00: Obama Said Not Ready to Decide on Fed Chief for Weeks>, <PressRelease: Bernard 'Bernie' Sanders, 2013-07-12 00:00:00: Vermont receives an additional $42M to help exchange>, <PressRelease: Bernard 'Bernie' Sanders, 2010-09-30 00:00:00: Release: Congress Steps Up to Protect Social Security>, <PressRelease: Bernard 'Bernie' Sanders, 2008-10-22 00:00:00: Rebuild America>, <PressRelease: Bernard 'Bernie' Sanders, 2015-03-17 00:00:00: Sanders: House Budget Plan is an Assault on the Middle Class and a Gift to Millionaires and Billionaires>, <PressRelease: Bernard 'Bernie' Sanders, 2013-07-23 00:00:00: Could job cuts hurt Vermont Yankee's case before PSB?>, <PressRelease: Bernard 'Bernie' Sanders, 2008-10-20 00:00:00: Rebuild America>, <PressRelease: Bernard 'Bernie' Sanders, 2009-01-11 00:00:00: Sanders: Why Not Fire Failed Tycoons?>, <PressRelease: Bernard 'Bernie' Sanders, 2013-11-21 00:00:00: SEN. SANDERS ISSUES STATEMENT ON MAJORITY RULE IN THE SENATE>, <PressRelease: Bernard 'Bernie' Sanders, 2008-05-27 00:00:00: Ike Was Right>, <PressRelease: Bernard 'Bernie' Sanders, 2015-08-26 00:00:00: Sanders Sends Letter to Postmaster General>, <PressRelease: Bernard 'Bernie' Sanders, 2009-08-20 00:00:00: Federal Grants for Vermont Communities to Counter Drug And Substance Abuse>, <PressRelease: Bernard 'Bernie' Sanders, 2014-04-22 00:00:00: Earth Day>, <PressRelease: Bernard 'Bernie' Sanders, 2007-11-14 00:00:00: A good, long look>, <PressRelease: Bernard 'Bernie' Sanders, 2008-01-15 00:00:00: Fire!>, <PressRelease: Bernard 'Bernie' Sanders, 2009-05-06 00:00:00: Encouraging Renewable Energy>, <PressRelease: Bernard 'Bernie' Sanders, 2010-01-08 00:00:00: Release: GE in Rutland Wins $12 Million Clean Energy Stimulus, Delegation Announces>, <PressRelease: Bernard 'Bernie' Sanders, 2013-08-27 00:00:00: Vermont Yankee Shutdown is 'Good News,' Sanders Says>, '...(remaining elements truncated)...']>,\n",
       " 'ballotpedia_page': <QueryModelManager [<BallotpediaPage: BallotpediaPage object (599)>]>,\n",
       " 'wikipedia_page': <QueryModelManager [<WikipediaPage: WikipediaPage object (1691)>]>,\n",
       " 'speeches': <QueryModelManager [<Speech: Speech object (1255897)>, <Speech: Speech object (1255895)>, <Speech: Speech object (1255893)>, <Speech: Speech object (1255891)>, <Speech: Speech object (1255889)>, <Speech: Speech object (1255887)>, <Speech: Speech object (1255883)>, <Speech: Speech object (1255881)>, <Speech: Speech object (1248748)>, <Speech: Speech object (1248742)>, <Speech: Speech object (1248738)>, <Speech: Speech object (1248736)>, <Speech: Speech object (1241197)>, <Speech: Speech object (1238387)>, <Speech: Speech object (1238385)>, <Speech: Speech object (1238383)>, <Speech: Speech object (1238381)>, <Speech: Speech object (1235399)>, <Speech: Speech object (1235396)>, <Speech: Speech object (1235394)>, '...(remaining elements truncated)...']>,\n",
       " 'twitter_profiles': <MergedTwitterProfileManager [<TwitterProfile: sensanders (Bernard 'Bernie' Sanders)>, <TwitterProfile: berniesanders (Bernard 'Bernie' Sanders)>, <TwitterProfile: senatorsanders (Bernard 'Bernie' Sanders)>]>,\n",
       " 'incumbent_elections': <QueryModelManager [<Election: 2012 race for Senator of Vermont, U.S. Senate (Class 1) (winner Bernard 'Bernie' Sanders)>, <Election: 2004 race for Representative of Vermont, District At-Large (historical), U.S. House of Representatives (winner Bernard 'Bernie' Sanders)>]>,\n",
       " 'elections_won': <QueryModelManager [<Election: 2018 race for Senator of Vermont, U.S. Senate (Class 1) (winner Bernard 'Bernie' Sanders)>, <Election: 2012 race for Senator of Vermont, U.S. Senate (Class 1) (winner Bernard 'Bernie' Sanders)>, <Election: 2006 race for Senator of Vermont, U.S. Senate (Class 1) (winner Bernard 'Bernie' Sanders)>, <Election: 2004 race for Representative of Vermont, District At-Large (historical), U.S. House of Representatives (winner Bernard 'Bernie' Sanders)>, <Election: 2002 race for Representative of Vermont, District At-Large (historical), U.S. House of Representatives (winner Bernard 'Bernie' Sanders)>, <Election: 2000 race for Representative of Vermont, District At-Large (historical), U.S. House of Representatives (winner Bernard 'Bernie' Sanders)>, <Election: 1998 race for Representative of Vermont, District At-Large (historical), U.S. House of Representatives (winner Bernard 'Bernie' Sanders)>, <Election: 1996 race for Representative of Vermont, District At-Large (historical), U.S. House of Representatives (winner Bernard 'Bernie' Sanders)>, <Election: 1994 race for Representative of Vermont, District At-Large (historical), U.S. House of Representatives (winner Bernard 'Bernie' Sanders)>, <Election: 1992 race for Representative of Vermont, District At-Large (historical), U.S. House of Representatives (winner Bernard 'Bernie' Sanders)>, <Election: 1990 race for Representative of Vermont, District At-Large (historical), U.S. House of Representatives (winner Bernard 'Bernie' Sanders)>]>,\n",
       " 'contributions_donated': <QueryModelManager []>,\n",
       " 'contributions_received': <QueryModelManager []>,\n",
       " 'facebook_pages': <MergedFacebookPageManager [<FacebookPage: berniesanders (Bernard 'Bernie' Sanders)>, <FacebookPage: senatorsanders (Bernard 'Bernie' Sanders)>]>,\n",
       " 'terms': <QueryModelManager [<Term: Bernard 'Bernie' Sanders term as Senator of Vermont, U.S. Senate (Class 1), 2019 - 2025>, <Term: Bernard 'Bernie' Sanders term as Senator of Vermont, U.S. Senate (Class 1), 2013 - 2019>, <Term: Bernard 'Bernie' Sanders term as Senator of Vermont, U.S. Senate (Class 1), 2007 - 2013>, <Term: Bernard 'Bernie' Sanders term as Representative of Vermont, District At-Large (historical), U.S. House of Representatives, 2005 - 2007>, <Term: Bernard 'Bernie' Sanders term as Representative of Vermont, District At-Large (historical), U.S. House of Representatives, 2003 - 2005>, <Term: Bernard 'Bernie' Sanders term as Representative of Vermont, District At-Large (historical), U.S. House of Representatives, 2001 - 2003>, <Term: Bernard 'Bernie' Sanders term as Representative of Vermont, District At-Large (historical), U.S. House of Representatives, 1999 - 2001>, <Term: Bernard 'Bernie' Sanders term as Representative of Vermont, District At-Large (historical), U.S. House of Representatives, 1997 - 1999>, <Term: Bernard 'Bernie' Sanders term as Representative of Vermont, District At-Large (historical), U.S. House of Representatives, 1995 - 1997>, <Term: Bernard 'Bernie' Sanders term as Representative of Vermont, District At-Large (historical), U.S. House of Representatives, 1993 - 1995>, <Term: Bernard 'Bernie' Sanders term as Representative of Vermont, District At-Large (historical), U.S. House of Representatives, 1991 - 1993>]>,\n",
       " 'chaired_committees': <QueryModelManager []>,\n",
       " 'ranking_member_committees': <QueryModelManager [<Committee: Senate Committee on Budget, <LegislatureManager [<Legislature: U.S. Senate>]>>, <Committee: Primary Health and Aging, <LegislatureManager [<Legislature: U.S. Senate>]>>]>,\n",
       " 'committees': <QueryModelManager []>,\n",
       " 'committee_memberships': <QueryModelManager [<CommitteeMembership: CommitteeMembership object (164934)>, <CommitteeMembership: CommitteeMembership object (150092)>, <CommitteeMembership: CommitteeMembership object (161558)>, <CommitteeMembership: CommitteeMembership object (165308)>, <CommitteeMembership: CommitteeMembership object (164893)>, <CommitteeMembership: CommitteeMembership object (161149)>, <CommitteeMembership: CommitteeMembership object (168701)>, <CommitteeMembership: CommitteeMembership object (165447)>, <CommitteeMembership: CommitteeMembership object (168757)>, <CommitteeMembership: CommitteeMembership object (168688)>, <CommitteeMembership: CommitteeMembership object (153618)>, <CommitteeMembership: CommitteeMembership object (164978)>, <CommitteeMembership: CommitteeMembership object (161133)>, <CommitteeMembership: CommitteeMembership object (149705)>, <CommitteeMembership: CommitteeMembership object (161709)>, <CommitteeMembership: CommitteeMembership object (168497)>, <CommitteeMembership: CommitteeMembership object (161526)>, <CommitteeMembership: CommitteeMembership object (161203)>, <CommitteeMembership: CommitteeMembership object (149883)>, <CommitteeMembership: CommitteeMembership object (164994)>, '...(remaining elements truncated)...']>,\n",
       " 'caucuses': <QueryModelManager [<Caucus: Congressional Progressive Caucus>]>,\n",
       " 'sponsored_bills': <QueryModelManager [<Bill: U.S. Senate s3044-114: Puerto Rico Humanitarian Relief and Reconstruction Act>, <Bill: U.S. Senate s2399-114: Climate Protection and Justice Act of 2015>, <Bill: U.S. Senate s2398-114: Clean Energy Worker Just Transition Act>, <Bill: U.S. Senate s2391-114: American Clean Energy Investment Act of 2015>, <Bill: U.S. Senate s2242-114: Save Oak Flat Act>, <Bill: U.S. Senate s2237-114: Ending Federal Marijuana Prohibition Act of 2015>, <Bill: U.S. Senate s2142-114: Workplace Democracy Act>, <Bill: U.S. Senate s2054-114: Justice is Not For Sale Act of 2015>, <Bill: U.S. Senate s2023-114: Prescription Drug Affordability Act of 2015>, <Bill: U.S. Senate s1970-114: Raising Enrollment with a Government Initiated System for Timely Electoral Registration (REGISTER) Act of 2015>, <Bill: U.S. Senate s1969-114: Democracy Day Act of 2015>, <Bill: U.S. Senate s1832-114: Pay Workers a Living Wage Act>, <Bill: U.S. Senate s1713-114: Low-Income Solar Act>, <Bill: U.S. Senate s1677-114: Responsible Estate Tax Act>, <Bill: U.S. Senate s1631-114: Keep Our Pension Promises Act>, <Bill: U.S. Senate s1564-114: Guaranteed Paid Vacation Act>, <Bill: U.S. Senate s1506-114: Employ Young Americans Now Act>, <Bill: U.S. Senate s1373-114: College for All Act>, <Bill: U.S. Senate s1371-114: Inclusive Prosperity Act of 2015>, <Bill: U.S. Senate s1366-114: None>, '...(remaining elements truncated)...']>,\n",
       " 'cosponsored_bills': <QueryModelManager [<Bill: U.S. Senate sres640-114: None>, <Bill: U.S. Senate sres633-114: None>, <Bill: U.S. Senate sres632-114: None>, <Bill: U.S. Senate sres590-114: None>, <Bill: U.S. Senate sres581-114: No Vote No Recess Resolution>, <Bill: U.S. Senate sres561-114: None>, <Bill: U.S. Senate sres539-114: None>, <Bill: U.S. Senate sres530-114: None>, <Bill: U.S. Senate sres523-114: None>, <Bill: U.S. Senate sconres45-114: None>, <Bill: U.S. Senate s3491-114: Justice for Victims of Fraud Act of 2016>, <Bill: U.S. Senate s3476-114: National Guard Bonus Repayment and Financial Relief Act>, <Bill: U.S. Senate s3328-114: Department of Veterans Affairs Appeals Modernization Act of 2016>, <Bill: U.S. Senate s3321-114: Empowering States' Rights To Protect Consumers Act of 2016>, <Bill: U.S. Senate s3309-114: Voter Empowerment Act of 2015>, <Bill: U.S. Senate s3252-114: Automatic Voter Registration Act of 2016>, <Bill: U.S. Senate sres202-115: None>, <Bill: U.S. Senate sres201-115: None>, <Bill: U.S. Senate sres193-115: None>, <Bill: U.S. Senate sres184-115: None>, '...(remaining elements truncated)...']>,\n",
       " 'votes_for': <QueryModelManager [<Vote: Vote On the Motion to Table H.R. 3326 on U.S. House of Representatives hr3326-111: Department of Defense Appropriations Act, 2010, 2009-12-19 00:00:00>, <Vote: Vote On the Motion (Motion To Concur In The House Amdt. To The Senate Amdt.) on U.S. House of Representatives hr3326-111: Department of Defense Appropriations Act, 2010, 2009-12-19 00:00:00>, <Vote: Vote On the Motion (Motion to Waive CBA and All Budget Resolutions Re: Motion to Concur in House Amdt. to H.R. 3326) on U.S. House of Representatives hr3326-111: Department of Defense Appropriations Act, 2010, 2009-12-19 00:00:00>, <Vote: Vote On the Cloture Motion on U.S. House of Representatives hr3590-111: Patient Protection and Affordable Care Act, 2009-12-21 00:00:00>, <Vote: Vote On the Motion to Table S.Amdt. 4309 to S.Con.Res. 70 (No short title on file) on U.S. Senate sconres70-110: None, 2008-03-13 00:00:00>, <Vote: Vote On the Amendment on U.S. Senate sconres70-110: None, 2008-03-13 00:00:00>, <Vote: Vote On the Amendment on U.S. Senate sconres70-110: None, 2008-03-13 00:00:00>, <Vote: Vote On the Cloture Motion on U.S. House of Representatives hr3326-111: Department of Defense Appropriations Act, 2010, 2009-12-18 00:00:00>, <Vote: Vote On the Motion (Motion to Waive Rule XXVIII Re: Conference Report to Accompany H.R. 3288) on U.S. House of Representatives hr3288-111: Consolidated Appropriations Act, 2010, 2009-12-11 00:00:00>, <Vote: Vote On the Motion to Proceed on U.S. House of Representatives hr3288-111: Consolidated Appropriations Act, 2010, 2009-12-10 00:00:00>, <Vote: Vote On the Motion to Table S.Amdt. 3278 to H.R. 3590 (Service Members Home Ownership Tax Act of 2009) on U.S. House of Representatives hr3590-111: Patient Protection and Affordable Care Act, 2009-12-22 00:00:00>, <Vote: Vote Call of the House by States on None, 2005-01-04 00:00:00>, <Vote: Vote On the Cloture Motion on None, 2014-07-15 00:00:00>, <Vote: Vote On the Nomination on None, 2014-07-09 00:00:00>, <Vote: Vote On the Nomination on None, 2014-06-26 00:00:00>, <Vote: Vote On the Nomination on None, 2014-06-24 00:00:00>, <Vote: Vote On the Cloture Motion on None, 2014-07-15 00:00:00>, <Vote: Vote On the Nomination on None, 2014-07-10 00:00:00>, <Vote: Vote On the Cloture Motion on None, 2014-06-23 00:00:00>, <Vote: Vote On the Nomination on None, 2014-07-07 00:00:00>, '...(remaining elements truncated)...']>,\n",
       " 'votes_against': <QueryModelManager [<Vote: Vote On the Amendment on U.S. Senate sconres70-110: None, 2008-03-13 00:00:00>, <Vote: Vote On the Amendment on U.S. Senate sconres70-110: None, 2008-03-13 00:00:00>, <Vote: Vote On the Amendment on U.S. Senate sconres70-110: None, 2008-03-13 00:00:00>, <Vote: Vote On the Amendment on U.S. Senate sconres70-110: None, 2008-03-13 00:00:00>, <Vote: Vote On the Amendment on U.S. Senate sconres70-110: None, 2008-03-13 00:00:00>, <Vote: Vote On the Motion (Motion to Waive C.B.A. Cornyn Amdt. No. 4242) on U.S. Senate sconres70-110: None, 2008-03-13 00:00:00>, <Vote: Vote On the Amendment on U.S. Senate sconres70-110: None, 2008-03-13 00:00:00>, <Vote: Vote On the Amendment on U.S. Senate sconres70-110: None, 2008-03-13 00:00:00>, <Vote: Vote On Consideration of the Resolution on U.S. House of Representatives hres5-109: None, 2005-01-04 00:00:00>, <Vote: Vote On the Amendment on U.S. House of Representatives hr2-114: Medicare Access and CHIP Reauthorization Act of 2015, 2015-04-14 00:00:00>, <Vote: Vote On the Amendment on U.S. House of Representatives hr2-114: Medicare Access and CHIP Reauthorization Act of 2015, 2015-04-14 00:00:00>, <Vote: Vote On Ordering the Previous Question on U.S. House of Representatives hres5-109: None, 2005-01-04 00:00:00>, <Vote: Vote On the Resolution on U.S. House of Representatives hres5-109: None, 2005-01-04 00:00:00>, <Vote: Vote On Agreeing to the Objection on None, 2005-01-06 00:00:00>, <Vote: Vote On the Amendment on U.S. House of Representatives hr2-114: Medicare Access and CHIP Reauthorization Act of 2015, 2015-04-14 00:00:00>, <Vote: Vote On the Cloture Motion on U.S. House of Representatives hr2029-114: Military Construction and Veterans Affairs and Related Agencies Appropriations Act, 2016, 2015-12-18 00:00:00>, <Vote: Vote On the Motion (Motion to Waive All Applicable Budgetary Discipline Re: Motion to Concur in the House Amendments to the Senate Amendment to H.R. 2029) on U.S. House of Representatives hr2029-114: Military Construction and Veterans Affairs and Related Agencies Appropriations Act, 2016, 2015-12-18 00:00:00>, <Vote: Vote On the Motion (Motion to Concur in the House Amendments to the Senate Amendment to H.R. 2029) on U.S. House of Representatives hr2029-114: Military Construction and Veterans Affairs and Related Agencies Appropriations Act, 2016, 2015-12-18 00:00:00>, <Vote: Vote On Passage of the Bill on U.S. House of Representatives hr54-109: Congressional Gold Medal Enhancement Act of 2005, 2005-01-26 00:00:00>, <Vote: Vote On the Resolution on U.S. House of Representatives hconres36-109: None, 2005-02-02 00:00:00>, '...(remaining elements truncated)...']>,\n",
       " 'votes_abstained': <QueryModelManager [<Vote: Vote On the Nomination on None, 2016-01-11 00:00:00>, <Vote: Vote On the Nomination on None, 2016-01-19 00:00:00>, <Vote: Vote On the Cloture Motion on U.S. House of Representatives hr4038-114: American SAFE Act of 2015, 2016-01-20 00:00:00>, <Vote: Vote On the Cloture Motion on U.S. Senate sjres22-114: None, 2016-01-21 00:00:00>, <Vote: Vote On the Nomination on None, 2016-01-27 00:00:00>, <Vote: Vote On the Amendment on U.S. Senate s2012-114: Energy Policy Modernization Act of 2016, 2016-01-28 00:00:00>, <Vote: Vote On the Amendment on U.S. Senate s2012-114: Energy Policy Modernization Act of 2016, 2016-01-28 00:00:00>, <Vote: Vote On the Amendment on U.S. Senate s2012-114: Energy Policy Modernization Act of 2016, 2016-01-28 00:00:00>, <Vote: Vote On the Amendment on U.S. Senate s2012-114: Energy Policy Modernization Act of 2016, 2016-02-02 00:00:00>, <Vote: Vote On the Amendment on U.S. Senate s2012-114: Energy Policy Modernization Act of 2016, 2016-02-02 00:00:00>, <Vote: Vote On the Amendment on U.S. Senate s2012-114: Energy Policy Modernization Act of 2016, 2016-02-02 00:00:00>, <Vote: Vote On the Amendment on U.S. Senate s2012-114: Energy Policy Modernization Act of 2016, 2016-02-02 00:00:00>, <Vote: Vote On the Amendment on U.S. Senate s2012-114: Energy Policy Modernization Act of 2016, 2016-02-02 00:00:00>, <Vote: Vote On the Amendment on U.S. Senate s2012-114: Energy Policy Modernization Act of 2016, 2016-02-02 00:00:00>, <Vote: Vote On the Cloture Motion on U.S. Senate s2012-114: Energy Policy Modernization Act of 2016, 2016-02-04 00:00:00>, <Vote: Vote On the Cloture Motion on U.S. Senate s2012-114: Energy Policy Modernization Act of 2016, 2016-02-04 00:00:00>, <Vote: Vote On the Nomination on None, 2016-02-08 00:00:00>, <Vote: Vote On the Nomination on None, 2016-02-09 00:00:00>, <Vote: Vote On Passage of the Bill on U.S. House of Representatives hr757-114: North Korea Sanctions Enforcement Act of 2015, 2016-02-10 00:00:00>, <Vote: Vote On the Cloture Motion on U.S. House of Representatives hr644-114: Trade Facilitation and Trade Enforcement Act of 2015, 2016-02-11 00:00:00>, '...(remaining elements truncated)...']>,\n",
       " 'hearings': <QueryModelManager [<LegislativeHearing: 72 CHRG-114shrg94051: [datetime.date(2015, 3, 19)]>, <LegislativeHearing: 14284 CHRG-110shrg36643: [datetime.date(2007, 4, 25)]>, <LegislativeHearing: 14291 CHRG-110shrg34335: [datetime.date(2007, 3, 14)]>, <LegislativeHearing: 14292 CHRG-110shrg40573: [datetime.date(2007, 9, 27)]>, <LegislativeHearing: 9563 CHRG-109hhrg29458: [datetime.date(2005, 6, 23)]>, <LegislativeHearing: 8663 CHRG-108hhrg94689: [datetime.date(2004, 3, 30)]>, <LegislativeHearing: 8665 CHRG-108hhrg95012: [datetime.date(2004, 5, 18)]>, <LegislativeHearing: 345 CHRG-114shrg96272: [datetime.date(2015, 8, 17)]>, <LegislativeHearing: 8677 CHRG-108hhrg96529: [datetime.date(2004, 7, 15)]>, <LegislativeHearing: 4084 CHRG-112shrg94198: [datetime.date(2012, 11, 15)]>, <LegislativeHearing: 7770 CHRG-108hhrg89409: [datetime.date(2003, 4, 10)]>, <LegislativeHearing: 8694 CHRG-108hhrg96545: [datetime.date(2004, 4, 28)]>, <LegislativeHearing: 8698 CHRG-108hhrg94688: [datetime.date(2004, 3, 25)]>, <LegislativeHearing: 7777 CHRG-108hhrg89633: [datetime.date(2003, 5, 22)]>, <LegislativeHearing: 8718 CHRG-108hhrg96546: [datetime.date(2004, 5, 3)]>, <LegislativeHearing: 9721 CHRG-109hhrg28102: [datetime.date(2005, 7, 19)]>, <LegislativeHearing: 7780 CHRG-108hhrg91543: [datetime.date(2003, 6, 17)]>, <LegislativeHearing: 8724 CHRG-108hhrg93841: [datetime.date(2004, 3, 18)]>, <LegislativeHearing: 2851 CHRG-113shrg94431: [datetime.date(2013, 3, 14)]>, <LegislativeHearing: 7797 CHRG-108hhrg91303: [datetime.date(2003, 10, 8)]>, '...(remaining elements truncated)...']>,\n",
       " 'scrape_logs': <ScrapeLogManager [<ScrapeLog: ScrapeLog object (1083)>, <ScrapeLog: ScrapeLog object (1082)>, <ScrapeLog: ScrapeLog object (1081)>]>,\n",
       " 'webpages': <WebpageManager [<Webpage: 232e6cb76ab068afb772f670b2e9a913>, <Webpage: 2ca773ae3bdd0c424b3672b5b9194208>, <Webpage: c1ac6146dfe6520a029c6cf0812561ad>, <Webpage: eec968dae00e21cd710860082c2bd82d>, <Webpage: 9018d1511cf46681a964719a346a654d>, <Webpage: edd9cdde8b570ebbbfbc70d0eec10c55>, <Webpage: 21d73276ff8ef92a17fe3d906376cd2e>, <Webpage: ad6ad2636640bd50f8317bc67c633116>, <Webpage: 25f0981e0ac67bda6ad06b55206af734>, <Webpage: 147f948c5defe278dc5d014205b379b1>, <Webpage: 7a416fda677ae1e7c4a4e284b6c54f86>, <Webpage: d2e5d410055e75dc072067d5aac18e57>, <Webpage: f10191506e6097a96886b32e7dbaa7c6>, <Webpage: 362cd980f72a5c9c02891bda27dfdad7>, <Webpage: 1485789318324a08f944b4e95c1db0db>, <Webpage: b8bc12cca78d8efdb8465cbef3006ea8>, <Webpage: c6a245a7bd66e04dc1f59cb6afca91d1>, <Webpage: 1cc70e7fbb725e103b45155c744b28af>, <Webpage: 7a980b3dbcf1aa618f2a1fb4ee28fd59>, <Webpage: 64d37b16892d4e32a9011b57114d2b73>, '...(remaining elements truncated)...']>,\n",
       " 'current_term': <QueryModelManager [<Term: Bernard 'Bernie' Sanders term as Senator of Vermont, U.S. Senate (Class 1), 2019 - 2025>]>,\n",
       " 'latest_term': <QueryModelManager [<Term: Bernard 'Bernie' Sanders term as Senator of Vermont, U.S. Senate (Class 1), 2019 - 2025>]>,\n",
       " 'party': <PartyManager [<Party: Democratic Party>]>,\n",
       " 'commands': <BasicExtendedManager [<Command: load_pew_data_labs_politician_social_media_accounts {}>, <Command: load_pew_data_labs_scraper_press_releases {'mode': 'reparse_existing'}>, <Command: load_united_states_github_congress_members {}>, <Command: load_united_states_github_congress_member_social_media {}>, <Command: load_pew_data_labs_mturk_politician_social_media_accounts {}>, <Command: load_sunlight_current_congress_members {}>, <Command: load_facebook_politician_pages {}>, <Command: load_twitter_politician_profiles {}>, <Command: load_pew_data_labs_scraper_press_releases {'mode': 'new'}>, <Command: load_wikipedia_politician_pages {}>, <Command: clean_remove_duplicate_politician_press_releases {}>, <Command: logos_load_facebook_politician_pages {}>, <Command: commands_load_twitter_politician_profiles {}>, <Command: commands_load_facebook_politician_pages {}>, <Command: commands_load_united_states_github_congress_members {}>, <Command: commands_load_united_states_github_congress_member_social_media {}>, <Command: load_bioguide_politician_bios {}>, <Command: politician_profiles {}>, <Command: data_labs_politician_social_media_accounts {}>, <Command: states_github_congress_members {}>, '...(remaining elements truncated)...']>,\n",
       " 'command_logs': <BasicExtendedManager [<CommandLog: load_pew_data_labs_politician_social_media_accounts {} (pk=27787): COMPLETED>, <CommandLog: load_pew_data_labs_politician_social_media_accounts {} (pk=27790): COMPLETED>, <CommandLog: load_pew_data_labs_politician_social_media_accounts {} (pk=27792): COMPLETED>, <CommandLog: load_pew_data_labs_scraper_press_releases {'mode': 'reparse_existing'} (pk=28027): RUNNING>, <CommandLog: load_united_states_github_congress_members {} (pk=28113): COMPLETED>, <CommandLog: load_united_states_github_congress_members {} (pk=28115): COMPLETED>, <CommandLog: load_united_states_github_congress_members {} (pk=28116): COMPLETED>, <CommandLog: load_united_states_github_congress_members {} (pk=28117): FAILED>, <CommandLog: load_united_states_github_congress_members {} (pk=28118): RUNNING>, <CommandLog: load_united_states_github_congress_members {} (pk=28119): RUNNING>, <CommandLog: load_united_states_github_congress_members {} (pk=28120): RUNNING>, <CommandLog: load_united_states_github_congress_members {} (pk=28121): COMPLETED>, <CommandLog: load_united_states_github_congress_members {} (pk=28122): RUNNING>, <CommandLog: load_united_states_github_congress_members {} (pk=28123): RUNNING>, <CommandLog: load_united_states_github_congress_members {} (pk=28124): COMPLETED>, <CommandLog: load_united_states_github_congress_members {} (pk=28126): FAILED>, <CommandLog: load_united_states_github_congress_members {} (pk=28128): FAILED>, <CommandLog: load_united_states_github_congress_members {} (pk=28130): FAILED>, <CommandLog: load_united_states_github_congress_members {} (pk=28131): FAILED>, <CommandLog: load_united_states_github_congress_members {} (pk=28132): COMPLETED>, '...(remaining elements truncated)...']>,\n",
       " 'verifications': <VerificationManager []>}"
      ]
     },
     "execution_count": 60,
     "metadata": {},
     "output_type": "execute_result"
    }
   ],
   "source": [
    "bernie.related_objects()"
   ]
  },
  {
   "cell_type": "code",
   "execution_count": 61,
   "metadata": {},
   "outputs": [
    {
     "data": {
      "text/plain": [
       "{'personal_metrics': 47,\n",
       " 'campaigns': 7,\n",
       " 'staffers': 0,\n",
       " 'relevant_news_articles': 96109,\n",
       " 'press_releases': 3326,\n",
       " 'ballotpedia_page': 1,\n",
       " 'wikipedia_page': 1,\n",
       " 'speeches': 2890,\n",
       " 'twitter_profiles': 3,\n",
       " 'incumbent_elections': 2,\n",
       " 'elections_won': 11,\n",
       " 'contributions_donated': 0,\n",
       " 'contributions_received': 0,\n",
       " 'facebook_pages': 2,\n",
       " 'terms': 11,\n",
       " 'chaired_committees': 0,\n",
       " 'ranking_member_committees': 2,\n",
       " 'committees': 0,\n",
       " 'committee_memberships': 63,\n",
       " 'caucuses': 1,\n",
       " 'sponsored_bills': 235,\n",
       " 'cosponsored_bills': 2638,\n",
       " 'votes_for': 3320,\n",
       " 'votes_against': 1918,\n",
       " 'votes_abstained': 343,\n",
       " 'hearings': 1059,\n",
       " 'scrape_logs': 3,\n",
       " 'webpages': 2193,\n",
       " 'current_term': 1,\n",
       " 'latest_term': 1,\n",
       " 'party': 1,\n",
       " 'commands': 21,\n",
       " 'command_logs': 1108,\n",
       " 'verifications': 0}"
      ]
     },
     "execution_count": 61,
     "metadata": {},
     "output_type": "execute_result"
    }
   ],
   "source": [
    "bernie.related_objects(counts=True)"
   ]
  },
  {
   "cell_type": "markdown",
   "metadata": {},
   "source": [
    "Looks like we've got a lot of data on Bernie.  What would happen if we deleted him?  Deleting a record in a database can cause a lot of unexpected cascade behavior if you aren't careful!  The `inspect_delete` function in Django Pewtils' `BasicExtendedModel` can help you make sure you're not going to do something you'll regret.  (You can also run this on queries too.)"
   ]
  },
  {
   "cell_type": "code",
   "execution_count": 62,
   "metadata": {},
   "outputs": [
    {
     "data": {
      "text/plain": [
       "defaultdict(list,\n",
       "            {logos.models.agents.Politician: 1,\n",
       "             logos.models.agents.Politician_commands: 21,\n",
       "             logos.models.agents.Politician_command_logs: 1108,\n",
       "             logos.models.agents.PoliticianPersonalMetric: 47,\n",
       "             logos.models.agents.PoliticianPersonalMetric_commands: 27,\n",
       "             logos.models.agents.PoliticianPersonalMetric_command_logs: 167,\n",
       "             logos.models.media.NewsArticle_relevant_politicians: 96109,\n",
       "             logos.models.media.BallotpediaPage: 1,\n",
       "             logos.models.media.WikipediaPage: 1,\n",
       "             logos.models.media.WikipediaPage_commands: 1,\n",
       "             logos.models.media.WikipediaPage_command_logs: 1,\n",
       "             logos.models.government.CommitteeMembership: 63,\n",
       "             logos.models.government.CommitteeMembership_commands: 63,\n",
       "             logos.models.government.CommitteeMembership_command_logs: 63,\n",
       "             logos.models.government.Caucus_members: 1,\n",
       "             logos.models.government.Bill_cosponsors: 2638,\n",
       "             logos.models.government.Vote_votes_for: 3320,\n",
       "             logos.models.government.Vote_votes_against: 1918,\n",
       "             logos.models.government.Vote_votes_abstained: 343,\n",
       "             logos.models.government.LegislativeHearing_attendees: 1059})"
      ]
     },
     "execution_count": 62,
     "metadata": {},
     "output_type": "execute_result"
    }
   ],
   "source": [
    "bernie.inspect_delete(counts=True)"
   ]
  },
  {
   "cell_type": "markdown",
   "metadata": {},
   "source": [
    "So, let's maybe _not_ do that. \n",
    "\n",
    "Anyway, that's some of the handy stuff in Django Pewtils!\n",
    "\n",
    "Let's make sure we deleted all of our Rocks, just in case:"
   ]
  },
  {
   "cell_type": "code",
   "execution_count": 63,
   "metadata": {},
   "outputs": [],
   "source": [
    "for field, unique_id in [\n",
    "    (\"fec_ids\", [\"S99999\", \"P99999\"]),\n",
    "    (\"fec_ids\", ['P99999', 'H99999']),\n",
    "    (\"bioguide_id\", \"J99999\"),\n",
    "    (\"icpsr_id\", \"12345\"),\n",
    "    (\"opensecrets_id\", \"12345\")\n",
    "]:\n",
    "    try: Politician.objects.get(**{field: unique_id}).delete()\n",
    "    except Politician.DoesNotExist: pass"
   ]
  }
 ],
 "metadata": {
  "kernelspec": {
   "display_name": "Python 3",
   "language": "python",
   "name": "python3"
  },
  "language_info": {
   "codemirror_mode": {
    "name": "ipython",
    "version": 3
   },
   "file_extension": ".py",
   "mimetype": "text/x-python",
   "name": "python",
   "nbconvert_exporter": "python",
   "pygments_lexer": "ipython3",
   "version": "3.7.9"
  }
 },
 "nbformat": 4,
 "nbformat_minor": 4
}
